{
 "cells": [
  {
   "cell_type": "markdown",
   "metadata": {},
   "source": [
    "# JavaScript学习",
    "这篇笔记旨在帮助你更快速的掌握Google Earth Engine网页版中的JavaScrip语法，学习后，你将拥有独立解析每行代码的能力，并且依据你所研究内容的地理数学原理独立修改甚至独立编写完成实验的代码"
   ]
  },
  {
   "cell_type": "markdown",
   "metadata": {},
   "source": [
    "## 基础语法",
    "### 一、入门",
    "#### 1. 变量与数据类型"
   ]
  },
  {
   "cell_type": "code",
   "execution_count": null,
   "metadata": {
    "vscode": {
     "languageId": "javascript"
    }
   },
   "outputs": [],
   "source": [
    "//%%javascript",
    "// 变量声明（支持三种方式）",
var legacyVar = "旧式声明"; // 函数作用域
let modernVar = 42;        // 块级作用域
const PI = 3.14159;        // 常量

// 类型系统
console.log(typeof "遥感数据"); // string
console.log(typeof 2023);      // number
console.log(typeof true);      // boolean
console.log(typeof undefined); // undefined
console.log(typeof null);      // object (历史遗留)
console.log(typeof {id: 1});   // object
```

#### 2. GEE专用数据类型
```javascript
//%%javascript
// 创建GEE几何对象
var point = ee.Geometry.Point([116.38, 39.90]);
var polygon = ee.Geometry.Polygon([
  [[115, 40], [117, 40], [117, 38], [115, 38]]
]);

// 创建图像集合
var landsat = ee.ImageCollection("LANDSAT/LC08/C02/T1_L2")
  .filterDate('2020-01-01', '2020-12-31')
  .filterBounds(polygon);
```

#### 3. 流程控制
```javascript
//%%javascript
// 条件判断
var ndvi = 0.67;
var result = (ndvi > 0.6) ? '植被茂盛' : 
            (ndvi > 0.3) ? '中等覆盖' : '低覆盖';
print('植被状态:', result);

// 循环处理
for(let i=0; i<3; i++) {
  print('正在处理第', i+1, '景影像');
}

var images = ['LC08_123', 'LC08_124', 'LE07_125'];
images.forEach(img => print('加载影像:', img));
```

#### 4. 函数基础
```javascript
//%%javascript
// 计算NDVI函数
function calculateNDVI(image) {
  var nir = image.select('SR_B5');
  var red = image.select('SR_B4');
  return nir.subtract(red).divide(nir.add(red));
}

// 箭头函数简化
const clipToROI = img => img.clip(polygon);

// 使用函数链
var ndviCol = landsat.map(calculateNDVI).map(clipToROI);
```

### 二、基础
#### 1. 影像集合操作
```javascript
//%%javascript
// 时间序列统计
var monthlyMean = ndviCol.map(function(img) {
  var date = img.date();
  return img.set('year', date.get('year'))
           .set('month', date.get('month'));
}).filter(ee.Filter.calendarRange(6,9,'month'))
  .mean();

// 可视化参数
var visParams = {
  min: 0,
  max: 1,
  palette: ['red', 'yellow', 'green']
};

// 添加图层
Map.addLayer(monthlyMean, visParams, '夏季平均NDVI');
```

#### 2. 特征集合处理
```javascript
//%%javascript
// 加载样本点
var samples = ee.FeatureCollection('users/your_samples');

// 区域统计
var stats = monthlyMean.reduceRegion({
  reducer: ee.Reducer.mean(),
  geometry: samples,
  scale: 30
});

print('区域平均NDVI:', stats.get('ndvi'));
```

#### 3. 图表生成
```javascript
//%%javascript
// 时间序列图表
var chart = ui.Chart.image.series({
  imageCollection: ndviCol,
  region: polygon,
  reducer: ee.Reducer.mean(),
  scale: 30
}).setOptions({
  title: '2020年NDVI变化趋势',
  vAxis: {title: 'NDVI值'},
  hAxis: {title: '日期'}
});

print(chart);
```

#### 4. 数据导出
```javascript
//%%javascript
// 导出到Google Drive
Export.image.toDrive({
  image: monthlyMean,
  description: 'NDVI_Export',
  fileNamePrefix: 'Beijing_NDVI',
  region: polygon,
  scale: 30,
  maxPixels: 1e13
});

// 提示导出状态
print('任务已提交到Tasks面板，请手动运行导出！');
```

<div style="text-align: right;">
左恒滔

于2025年4月18日晚
</div>
