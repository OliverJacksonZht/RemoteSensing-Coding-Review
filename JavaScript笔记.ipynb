{
 "cells": [
  {
   "cell_type": "markdown",
   "id": "b45c6387",
   "metadata": {},
   "source": [
    "# JavaScript学习"
   ]
  },
  {
   "cell_type": "markdown",
   "id": "3fffb767",
   "metadata": {},
   "source": [
    "这篇笔记旨在帮助你更快速的掌握Google Earth Engine网页版中的JavaScrip语法，学习后，你将拥有独立解析每行代码的能力，并且依据你所研究内容的地理数学原理独立修改甚至独立编写完成实验的代码,"
   ]
  }
 ],
 "metadata": {
  "language_info": {
   "name": "python"
  }
 },
 "nbformat": 4,
 "nbformat_minor": 5
}
