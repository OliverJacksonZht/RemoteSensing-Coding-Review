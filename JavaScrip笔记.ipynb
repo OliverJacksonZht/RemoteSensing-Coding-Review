{
 "cells": [
  {
   "cell_type": "markdown",
   "id": "b45c6387",
   "metadata": {},
   "source": [
    "# JavaScrip学习"
   ]
  }
 ],
 "metadata": {
  "language_info": {
   "name": "python"
  }
 },
 "nbformat": 4,
 "nbformat_minor": 5
}
