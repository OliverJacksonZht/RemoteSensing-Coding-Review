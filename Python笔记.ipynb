{
 "cells": [
  {
   "cell_type": "markdown",
   "metadata": {},
   "source": [
    "# Python学习"
   ]
  },
  {
   "cell_type": "markdown",
   "metadata": {},
   "source": [
    "## Python基础语法"
   ]
  },
  {
   "cell_type": "markdown",
   "metadata": {},
   "source": [
    "### 一、入门"
   ]
  },
  {
   "cell_type": "markdown",
   "metadata": {},
   "source": [
    "1.变量\n",
    "\n",
    "首次使用**变量**会在内存中划分空间，并初始化值；\n",
    "\n",
    "再次使用**变量**不会再划分空间，修改原空间的值\n",
    "\n",
    "同一个变量可以反复赋值且可以是不同的类型\n",
    "\n",
    "---\n",
    "\n",
    "2.标识符\n",
    "\n",
    "**含义**：定义的变量名、函数名字\n",
    "\n",
    "**规定**：\n",
    "\n",
    "1.只能由数字、字母、下划线组成\n",
    "\n",
    "2.不能以数字开头\n",
    "\n",
    "3.不嫩是关键字\n",
    "\n",
    "4.严格区分大小写\n",
    "\n"
   ]
  },
  {
   "cell_type": "markdown",
   "metadata": {},
   "source": [
    "#### 1.条件"
   ]
  },
  {
   "cell_type": "markdown",
   "metadata": {},
   "source": [
    "**普通版**"
   ]
  },
  {
   "cell_type": "code",
   "execution_count": null,
   "metadata": {},
   "outputs": [],
   "source": [
    "a = 11\n",
    "b = a % 2\n",
    "c = b == 0 #返回True或False\n",
    "if c:\n",
    "    print(\"偶\")\n",
    "else:\n",
    "    print(\"奇\")\n",
    "print(\"程序结束\")\n"
   ]
  },
  {
   "cell_type": "markdown",
   "metadata": {},
   "source": [
    "**简化版**"
   ]
  },
  {
   "cell_type": "code",
   "execution_count": null,
   "metadata": {},
   "outputs": [],
   "source": [
    "a = 11\n",
    "if a % 2 == 0:\n",
    "    print(\"偶数\")\n",
    "else:\n",
    "    print(\"奇数\")\n",
    "print(\"程序结束\")"
   ]
  },
  {
   "cell_type": "markdown",
   "metadata": {},
   "source": [
    "**程序判断题**"
   ]
  },
  {
   "cell_type": "code",
   "execution_count": null,
   "metadata": {},
   "outputs": [],
   "source": [
    "a = int(input(\"输入数学一分数：\")) #强制类型转换\n",
    "if a < 0 or a > 150:\n",
    "    print(\"超过合理范围\")\n",
    "elif a < 60:\n",
    "    print(\"不行不行\")\n",
    "elif a < 100:\n",
    "    print(\"还不错\") \n",
    "elif a == 100:\n",
    "    print(\"你真是个天才\")\n",
    "else:\n",
    "    print(\"太牛了\")\n",
    "print(\"程序结束\")"
   ]
  },
  {
   "cell_type": "markdown",
   "metadata": {},
   "source": [
    "#### 2.循环"
   ]
  },
  {
   "cell_type": "markdown",
   "metadata": {},
   "source": [
    "**While循环**"
   ]
  },
  {
   "cell_type": "code",
   "execution_count": null,
   "metadata": {},
   "outputs": [],
   "source": [
    "a = 0\n",
    "while a < 12:\n",
    "    a += 1\n",
    "    print(a,end=',')"
   ]
  },
  {
   "cell_type": "markdown",
   "metadata": {},
   "source": [
    "由于if判断发生在*while内*所以下一个循环的a+1没有执行"
   ]
  },
  {
   "cell_type": "code",
   "execution_count": null,
   "metadata": {},
   "outputs": [],
   "source": [
    "a = 0\n",
    "while a < 10:\n",
    "    a += 1\n",
    "    if a == 5:\n",
    "        break\n",
    "    print(a,end=',')"
   ]
  },
  {
   "cell_type": "markdown",
   "metadata": {},
   "source": [
    "print在if外，在while内，只输出while循环结束时的值"
   ]
  },
  {
   "cell_type": "code",
   "execution_count": null,
   "metadata": {},
   "outputs": [],
   "source": [
    "a = 0\n",
    "while a < 10:\n",
    "    a += 1\n",
    "    if a == 5:\n",
    "        break\n",
    "print(a,end=',')"
   ]
  },
  {
   "cell_type": "markdown",
   "metadata": {},
   "source": [
    "continue跳过本轮循环进行下一轮循环，循环注意*变量需要增加*不然会变成死循环"
   ]
  },
  {
   "cell_type": "code",
   "execution_count": null,
   "metadata": {},
   "outputs": [],
   "source": [
    "a = 0\n",
    "while a < 10:\n",
    "    a += 1\n",
    "    if a == 5:\n",
    "        continue\n",
    "    print(a,end=',')"
   ]
  },
  {
   "cell_type": "markdown",
   "metadata": {},
   "source": [
    "**for循环**"
   ]
  },
  {
   "cell_type": "code",
   "execution_count": null,
   "metadata": {},
   "outputs": [],
   "source": [
    "# for i in [1,2,3,4,5,6,7,8,9,10]:\n",
    "for i in range(10): # in后面的东西是元组，列表，字典，字符串，集合都可以\n",
    "    print(i,end=',')"
   ]
  },
  {
   "cell_type": "markdown",
   "metadata": {},
   "source": [
    "range语句不会占用很大空间，从原理来看其实不等效"
   ]
  },
  {
   "cell_type": "markdown",
   "metadata": {},
   "source": [
    "#### 3.字符串切片与下标"
   ]
  },
  {
   "cell_type": "markdown",
   "metadata": {},
   "source": [
    "字符串编码，本质上是二进制与语言文字的一一对应关系"
   ]
  },
  {
   "cell_type": "markdown",
   "metadata": {},
   "source": [
    "|编码|指定时间|作用|所占字节数|\n",
    "|:--:|:--:|:--:|:--:|\n",
    "|ASCII|1976年|表示英语和西欧语言|8bit/1bytes|\n",
    "|GB2312|1980年|国家简体中文字符集，兼容ASCII|2bytes|\n",
    "|Unicode|1991年|国际标准组织统一标准字符集|2bytes|\n",
    "|GBK|1995年|GB2312的扩展字符集，支持繁体字，兼容GB2312|2bytes|\n",
    "|**UTF-8**|1992年|不定长编码|1-3bytes|\n",
    "---\n",
    "\n",
    "Unicode：所有字符都是两个字节，好处是字符与数字之间转换很快，坏处是占用空间大\n",
    "\n",
    "UTF-8：更加精准，对不同的长度字符用不同的长度表示，好处是节省空间，坏处是字符与数字转换速度较慢，每次都要计算字符用多少个字节表示"
   ]
  },
  {
   "cell_type": "markdown",
   "metadata": {},
   "source": [
    "**字符串编码转换**\n",
    "\n",
    "编码 `encode()` 将其他编码的字符串转换成Unicode编码\n",
    "\n",
    "解码 `decode()` 将Unicode编码转换成其他编码的字符串"
   ]
  },
  {
   "cell_type": "code",
   "execution_count": 29,
   "metadata": {},
   "outputs": [
    {
     "name": "stdout",
     "output_type": "stream",
     "text": [
      "Hello <class 'str'>\n",
      "编码后： b'Hello' <class 'bytes'>\n",
      "解码后： Hello <class 'str'>\n"
     ]
    }
   ],
   "source": [
    "a = \"Hello\"\n",
    "print(a,type(a)) #type()函数可以查看变量类型\n",
    "\n",
    "b = a.encode()\n",
    "print(\"编码后：\",b,type(b)) #encode()函数可以将字符串转换为字节类型\n",
    "\n",
    "c = b.decode()\n",
    "print(\"解码后：\",c,type(c)) #decode()函数可以将字节类型转换为字符串类型"
   ]
  },
  {
   "cell_type": "code",
   "execution_count": null,
   "metadata": {},
   "outputs": [
    {
     "name": "stdout",
     "output_type": "stream",
     "text": [
      "b'\\xe6\\x88\\x91\\xe5\\x8f\\xab\\xe5\\x88\\x98\\xe5\\xbe\\xb7\\xe5\\x8d\\x8e' <class 'bytes'>\n",
      "我叫刘德华 <class 'str'>\n"
     ]
    }
   ],
   "source": [
    "str = \"我叫刘德华\"\n",
    "st1 = str.encode(\"utf-8\") #将字符串转换为字节类型\n",
    "print(st1,type(st1)) #查看转换后的类型\n",
    "\n",
    "st2 = st1.decode(\"utf-8\") #将字节类型转换为字符串\n",
    "print(st2,type(st2)) #查看转换后的类型"
   ]
  },
  {
   "cell_type": "markdown",
   "metadata": {},
   "source": [
    "**下标\\索引**\n",
    "\n",
    "Python中下标从0开始\n",
    "\n",
    "格式：字符串名 [下标值]"
   ]
  },
  {
   "cell_type": "code",
   "execution_count": null,
   "metadata": {},
   "outputs": [
    {
     "name": "stdout",
     "output_type": "stream",
     "text": [
      "v\n",
      "s\n"
     ]
    }
   ],
   "source": [
    "a = \"Oliver Jackson\"\n",
    "\n",
    "print(a[3]) #正数索引从左往右数,从0开始\n",
    "print(a[-3]) #负数索引从右往左数,从1开始"
   ]
  },
  {
   "cell_type": "markdown",
   "metadata": {},
   "source": [
    "注意！*切片是左闭右开区间*"
   ]
  },
  {
   "cell_type": "code",
   "execution_count": 17,
   "metadata": {},
   "outputs": [
    {
     "name": "stdout",
     "output_type": "stream",
     "text": [
      "u! O\n",
      "u! Olier\n",
      "Nice to\n",
      "uO\n",
      "reilO !uoy teem ot eciN\n",
      "Olie\n"
     ]
    }
   ],
   "source": [
    "a = \"Nice to meet you! Olier\"\n",
    "b = a[15:19] #从第16开始取，取到第19个之前\n",
    "print(b)\n",
    "\n",
    "c = a[15:]\n",
    "print(c)  \n",
    "\n",
    "d = a[:7] #切到第几个之前\n",
    "print(d)\n",
    "\n",
    "e = a[15:19:3] #隔两个切一个，此处隔开了uc切到k，也可以理解隔三个切一个，隔开uck切到！前一个，也就是k\n",
    "print(e)\n",
    "\n",
    "f = a[::-1] #翻转整个列表\n",
    "print(f)\n",
    "\n",
    "g = a[-5:-1] #从倒数第五个截取到倒数第一个字符，但是不包括倒数第一个字符\n",
    "print(g)"
   ]
  },
  {
   "cell_type": "markdown",
   "metadata": {},
   "source": [
    "1.`replace()`替换元素，`replace(旧内容，新内容，替换次数)`，替换次数可以省略默认全部替换，也可以限制替换几次\n",
    "\n",
    "2.`split()` 指定分隔符来切分字符串\n",
    "\n",
    "3.``"
   ]
  },
  {
   "cell_type": "code",
   "execution_count": 18,
   "metadata": {},
   "outputs": [
    {
     "name": "stdout",
     "output_type": "stream",
     "text": [
      "glad to meet you! Olier\n",
      "['glad', 'to', 'meet', 'you!', 'Olier']\n",
      "glad_to_meet_you!_Olier\n",
      "['', 'lad to meet you! Olier']\n"
     ]
    }
   ],
   "source": [
    "a = \"Nice to meet you! Olier\"\n",
    "\n",
    "a = a.replace(\"Nice\",\"glad\")\n",
    "print(a)\n",
    "\n",
    "b = a.split(\" \")\n",
    "print(b)\n",
    "\n",
    "\n",
    "c = \"_\".join(b)\n",
    "print(c)\n",
    "\n",
    "d = a.split('g')\n",
    "print(d)"
   ]
  },
  {
   "cell_type": "code",
   "execution_count": 20,
   "metadata": {},
   "outputs": [
    {
     "name": "stdout",
     "output_type": "stream",
     "text": [
      "你\n",
      "6\n"
     ]
    }
   ],
   "source": [
    "a = \"你好呀你好呀~\"\n",
    "\n",
    "b = a[3]\n",
    "print(b)\n",
    "\n",
    "c = [1,2,6,4,5]\n",
    "e = c[2]\n",
    "print(e)"
   ]
  },
  {
   "cell_type": "markdown",
   "metadata": {},
   "source": [
    "#### 4.字符串运算符\n"
   ]
  },
  {
   "cell_type": "markdown",
   "metadata": {},
   "source": [
    "\n",
    "|操作符|描述|实例|\n",
    "|:--:|:--:|:--:|\n",
    "|+|字符串连接|a+b输出结果:Fuckyou|\n",
    "|*|重复输出字符串|a*2输出结果:FuckFuck|\n",
    "|[]|通过索引获取字符串中字符|a[1]输出结果:u|\n",
    "|[:]|截取字符串中的一部分|a[1:3]输出结果:uck|\n",
    "|in|成员运算符-如果字符串中**包含**给定字符返回True| 'F' in a 输出结果为true|\n",
    "|not in|成员运算符-如果字符串中**不包含**给定字符则返回true|'S' not in a 输出结果为true|\n",
    "|r/R|原始字符串，所有字符串都按照字面意思使用，消除转义的功能|print r'\\n'"
   ]
  },
  {
   "cell_type": "markdown",
   "metadata": {},
   "source": [
    "**字符串链接**"
   ]
  },
  {
   "cell_type": "code",
   "execution_count": 21,
   "metadata": {},
   "outputs": [
    {
     "name": "stdout",
     "output_type": "stream",
     "text": [
      "Remotesensing\n",
      "Remote sensing\n",
      "Remotesensing\n"
     ]
    }
   ],
   "source": [
    "a = \"Remote\"\n",
    "b = \"sensing\"\n",
    "\n",
    "print(a + b)\n",
    "print(a,b)\n",
    "print(a,b,sep=\"\")"
   ]
  },
  {
   "cell_type": "markdown",
   "metadata": {},
   "source": [
    "**重复输出**"
   ]
  },
  {
   "cell_type": "code",
   "execution_count": 18,
   "metadata": {},
   "outputs": [
    {
     "name": "stdout",
     "output_type": "stream",
     "text": [
      "Oliver\n",
      "Oliver\n",
      "Oliver\n",
      "Oliver\n",
      "\n"
     ]
    }
   ],
   "source": [
    "print(\"Oliver\\n\"*4) #需要输出多少次，*号后面乘数就是多少"
   ]
  },
  {
   "cell_type": "markdown",
   "metadata": {},
   "source": [
    "**成员运算符**"
   ]
  },
  {
   "cell_type": "code",
   "execution_count": 28,
   "metadata": {},
   "outputs": [
    {
     "name": "stdout",
     "output_type": "stream",
     "text": [
      "yes\n",
      "YES\n",
      "False\n"
     ]
    }
   ],
   "source": [
    "a = \"Oliver Jackson\"\n",
    "\n",
    "if \"iv\" in a: \n",
    "    print(\"yes\")\n",
    "else:\n",
    "    print(\"No\")\n",
    "\n",
    "if \"b\" not in a:\n",
    "    print(\"YES\")\n",
    "\n",
    "print(\"hello\" in a)"
   ]
  },
  {
   "cell_type": "markdown",
   "metadata": {},
   "source": [
    "#### 5.字符串常见操作"
   ]
  },
  {
   "cell_type": "markdown",
   "metadata": {},
   "source": [
    "1.`find` 检测某个字符串是否包含于另一字符串中，返回布尔\n",
    "\n",
    "2.`count` 返回出现的次数\n",
    "\n",
    "3.`replace` 替换\n",
    "\n",
    "4.`split` 分割，以列表的形式返回，如果字符串中不包含分割内容，则不进行分割，返回整体字符串\n",
    "\n",
    "5.`index` 和find比较像但是会报异常\n",
    "\n",
    "6.`capitalize` 第一个字符大写\n",
    "\n",
    "7.`startswith` 是否以某字符开头，返回布尔\n",
    "\n",
    "8.`endswith` 是否以某字符结尾，返回布尔\n",
    "\n",
    "9.`lower` 大写字符转为小写字符\n",
    "\n",
    "10.`upper` 小写转为大写"
   ]
  },
  {
   "cell_type": "markdown",
   "metadata": {},
   "source": [
    "`find` 检测某个字符串是否包含于另一字符串中，如果在就返回这个子字符串的下标，否则就返回-1\n",
    "\n",
    "`find(子字符串，开始位置下标，结束未知下标)` 开始位置下标和结束未知下标可以省略，表示在整个字符串中查找"
   ]
  },
  {
   "cell_type": "code",
   "execution_count": null,
   "metadata": {},
   "outputs": [
    {
     "name": "stdout",
     "output_type": "stream",
     "text": [
      "5\n",
      "7\n",
      "12\n",
      "5\n"
     ]
    }
   ],
   "source": [
    "name = \"oliver Jackson\"\n",
    "\n",
    "print(name.find('r')) #第一个r的下标为5\n",
    "print(name.find('Ja')) #区分大小写，是第一个字母所在的位置，J的下标为7\n",
    "print(name.find('o',3)) #找的是从第3个开始往后找的\n",
    "print(name.find('r',3,8)) #在第3到第8个中间找，不包含第八个，左闭右开区间"
   ]
  },
  {
   "cell_type": "markdown",
   "metadata": {},
   "source": [
    "`index` 和 `find` 较像但是会报异常，如果在就返回子字符串开始位置下标，否则报错。"
   ]
  },
  {
   "cell_type": "code",
   "execution_count": 13,
   "metadata": {},
   "outputs": [
    {
     "name": "stdout",
     "output_type": "stream",
     "text": [
      "2\n",
      "12\n"
     ]
    }
   ],
   "source": [
    "name = 'oliver jackson'\n",
    "\n",
    "print(name.index('i'))\n",
    "print(name.index('o',2,13)) #未找到就报错，也是左开右闭区间"
   ]
  },
  {
   "cell_type": "markdown",
   "metadata": {},
   "source": [
    "`count` 返回出现的次数，某个子字符串在整个字符串中出现的次数，没有就返回0"
   ]
  },
  {
   "cell_type": "code",
   "execution_count": 15,
   "metadata": {},
   "outputs": [
    {
     "name": "stdout",
     "output_type": "stream",
     "text": [
      "2\n",
      "1\n"
     ]
    }
   ],
   "source": [
    "name = 'oliver jackson'\n",
    "\n",
    "print(name.count('o'))\n",
    "print(name.count('o',2))"
   ]
  },
  {
   "cell_type": "code",
   "execution_count": 11,
   "metadata": {},
   "outputs": [
    {
     "name": "stdout",
     "output_type": "stream",
     "text": [
      "False\n",
      "True\n",
      "OLIVER\n",
      "jackson\n",
      "Jackson\n",
      "Oliver Jackson\n",
      "OLIVER jacksoN\n",
      "False\n"
     ]
    }
   ],
   "source": [
    "print('oliver'.startswith('s')) #是否以某个字符开头\n",
    "\n",
    "print('oliver'.endswith('r')) #是否以某个字符结尾\n",
    "\n",
    "print('oliver'.upper()) #全部大写\n",
    "\n",
    "print('JACKSOn'.lower()) #全部小写\n",
    "\n",
    "print('JACKSOn'.capitalize()) #首字母大写，其他小写\n",
    "\n",
    "print('oliver JACKSOn'.title()) #每个单词首字母大写，其他小写\n",
    "\n",
    "print('oliver JACKSOn'.swapcase()) #大小写互换\n",
    "\n",
    "print('Oliver'.isupper()) #是否全部大写"
   ]
  },
  {
   "cell_type": "markdown",
   "metadata": {},
   "source": [
    "#### 6.列表"
   ]
  },
  {
   "cell_type": "markdown",
   "metadata": {},
   "source": [
    "**定义**\n",
    "\n",
    "是处理一组**有序**项目的数据结构\n",
    "\n",
    "**格式**\n",
    "\n",
    "列表名 = [元素1，元素2，元素...]\n",
    "\n",
    "**注意：**\n",
    "\n",
    "列表所有元素放在一对中括号中，并使用逗号隔开；一个列表中的**数据类型**可以各不相同"
   ]
  },
  {
   "cell_type": "code",
   "execution_count": 1,
   "metadata": {},
   "outputs": [
    {
     "name": "stdout",
     "output_type": "stream",
     "text": [
      "['age', 12, True] <class 'list'>\n"
     ]
    }
   ],
   "source": [
    "a = ['age',12,True]\n",
    "\n",
    "print(a,type(a)) #列表类型"
   ]
  },
  {
   "cell_type": "code",
   "execution_count": null,
   "metadata": {},
   "outputs": [],
   "source": [
    "a = [[1,2,3],[4,5,6],[7,8,9]]\n",
    "\n",
    "b = a[2][0] #取第三组里面的第一个\n",
    "print(b)"
   ]
  },
  {
   "cell_type": "markdown",
   "metadata": {},
   "source": [
    "**遍历列表**"
   ]
  },
  {
   "cell_type": "code",
   "execution_count": null,
   "metadata": {},
   "outputs": [],
   "source": [
    "a = [[[1, 2, 3], [4, 5, 6], [7, 8, 9]],\n",
    "    [[10, 11, 12], [13, 14, 15], [16, 17, 18]],\n",
    "    [[19, 20, 21], [22, 23, 24], [25, 26, 27]]]\n",
    "\n",
    "for b in a:\n",
    "    for c in b:\n",
    "        for d in c:\n",
    "            print(d,end=',')\n"
   ]
  },
  {
   "cell_type": "markdown",
   "metadata": {},
   "source": [
    "**列表的为所欲为**"
   ]
  },
  {
   "cell_type": "code",
   "execution_count": null,
   "metadata": {},
   "outputs": [],
   "source": [
    "b = 250\n",
    "a = [6,\"黑哥哥\",True,b,48]\n",
    "\n",
    "if 6 in a:\n",
    "    print(\"牛\")\n",
    "\n",
    "if b not in a:\n",
    "    print(\"Nice\")\n",
    "else:\n",
    "    print(\"No\")"
   ]
  },
  {
   "cell_type": "markdown",
   "metadata": {},
   "source": [
    "列表的常见操作"
   ]
  },
  {
   "cell_type": "code",
   "execution_count": 23,
   "metadata": {},
   "outputs": [
    {
     "name": "stdout",
     "output_type": "stream",
     "text": [
      "[6, '你好', True, 250, 48, 'Jackson']\n",
      "[6, '你好', True, 250, 48, 'Jackson', 'o', 'l', 'i']\n",
      "[6, '早上好', '你好', True, 250, 48, 'Jackson', 'o', 'l', 'i']\n",
      "[6, '早上好', '你好', 250, 48, 'Jackson', 'o', 'l', 'i']\n",
      "[6, '早上好', '你好', 250, 'Jackson', 'o', 'l', 'i']\n",
      "[]\n"
     ]
    }
   ],
   "source": [
    "b = 250\n",
    "a = [6,\"你好\",True,b,48]\n",
    "\n",
    "a.append(\"Jackson\") #末尾加，整体添加\n",
    "print(a)\n",
    "\n",
    "a.extend('oli') #分散添加，将另一个类型的元素逐一添加，不可用于int，要可迭代对象\n",
    "print(a)\n",
    "\n",
    "a.insert(1,\"早上好\") #加载第二个元素前面，需要指定添加位置，原有元素后移\n",
    "print(a)\n",
    "\n",
    "a.pop(3) #去除第四个元素，Python3无参数时候会默认删除最后一个，指定的是索引，索引必须合理\n",
    "print(a)\n",
    "\n",
    "a.remove(48) #去除48这个元素，如果有重复的，默认删除第一个；列表必须包含元素，否则报错\n",
    "print(a)\n",
    "\n",
    "a.clear() #清空列表\n",
    "print(a)\n",
    "\n",
    "del a #删除列表\n"
   ]
  },
  {
   "cell_type": "markdown",
   "metadata": {},
   "source": [
    "**列表赋值**\n"
   ]
  },
  {
   "cell_type": "code",
   "execution_count": 24,
   "metadata": {},
   "outputs": [
    {
     "name": "stdout",
     "output_type": "stream",
     "text": [
      "[6, '你好', True, 250, 48]\n"
     ]
    }
   ],
   "source": [
    "b = 250\n",
    "a = [6,\"你好\",True,b,48]\n",
    "\n",
    "c = a.copy() #推荐方法\n",
    "print(c)\n",
    "\n",
    "c = a #这种方法也可以，不过修改a的元素c也会变，相当于c创建指针指向a，a指向内存\n"
   ]
  },
  {
   "cell_type": "markdown",
   "metadata": {},
   "source": [
    "列表可以修改里面的内容，但是字符串不可以，会报错"
   ]
  },
  {
   "cell_type": "code",
   "execution_count": null,
   "metadata": {},
   "outputs": [],
   "source": [
    "b = 12\n",
    "a = [1,False,\"happy\",b,[1,2,3]]\n",
    "\n",
    "a[0] = 123\n",
    "print(a)\n",
    "\n",
    "a[1] = \"sb\"\n",
    "print(a)\n",
    "\n",
    "# string = \"Oliver\"\n",
    "# string[0] = \"b\"\n",
    "# print(string)\n"
   ]
  },
  {
   "cell_type": "markdown",
   "metadata": {},
   "source": [
    "**列表排序**"
   ]
  },
  {
   "cell_type": "markdown",
   "metadata": {},
   "source": [
    "`sort` 默认从小到大"
   ]
  },
  {
   "cell_type": "code",
   "execution_count": null,
   "metadata": {},
   "outputs": [],
   "source": [
    "a = [15,58,47,261,1,65]\n",
    "\n",
    "a.sort() #没有返回值，直接修改a的元素\n",
    "print(a)\n",
    "\n",
    "c = sorted(a) #有返回值\n",
    "print(c)"
   ]
  },
  {
   "cell_type": "markdown",
   "metadata": {},
   "source": [
    "**列表查找**"
   ]
  },
  {
   "cell_type": "code",
   "execution_count": 8,
   "metadata": {},
   "outputs": [
    {
     "name": "stdout",
     "output_type": "stream",
     "text": [
      "True\n",
      "False\n"
     ]
    }
   ],
   "source": [
    "a = ['oli','bill',123,True]\n",
    "\n",
    "print('oli' in a)\n",
    "\n",
    "print(True not in a)"
   ]
  },
  {
   "cell_type": "code",
   "execution_count": 16,
   "metadata": {},
   "outputs": [
    {
     "name": "stdout",
     "output_type": "stream",
     "text": [
      "昵称重复，换一个试试！\n",
      "昵称重复，换一个试试！\n",
      "['oli', 'bill', 'anne']\n"
     ]
    }
   ],
   "source": [
    "#案例：用户输入昵称，昵称重复则不能使用\n",
    "name_list = ['oli','bill']\n",
    "\n",
    "while True:\n",
    "    name = input(\"请输入昵称：\")\n",
    "\n",
    "    if name in name_list:\n",
    "        print(\"昵称重复，换一个试试！\")\n",
    "    else:\n",
    "        name_list.append(name)    \n",
    "        print(name_list)\n",
    "        break"
   ]
  },
  {
   "cell_type": "markdown",
   "metadata": {},
   "source": [
    "`index` 和 `count` 与字符串中用法相同"
   ]
  },
  {
   "cell_type": "markdown",
   "metadata": {},
   "source": [
    "**例子**：把奇数放进列表里面"
   ]
  },
  {
   "cell_type": "code",
   "execution_count": 32,
   "metadata": {},
   "outputs": [
    {
     "name": "stdout",
     "output_type": "stream",
     "text": [
      "[1, 3, 5, 7, 9]\n"
     ]
    }
   ],
   "source": [
    "a = []\n",
    "for i in range(1,10):\n",
    "    if i % 2 != 0:\n",
    "        a.append(i)\n",
    "print(a)\n"
   ]
  },
  {
   "cell_type": "markdown",
   "metadata": {},
   "source": [
    "注：列表推导式"
   ]
  },
  {
   "cell_type": "code",
   "execution_count": 33,
   "metadata": {},
   "outputs": [
    {
     "name": "stdout",
     "output_type": "stream",
     "text": [
      "[1, 3, 5, 7, 9, 1, 3, 5, 7, 9]\n"
     ]
    }
   ],
   "source": [
    "[a.append(i) for i in range(1,10) if i % 2 != 0] #列表推导式，简化代码\n",
    "print(a)"
   ]
  },
  {
   "cell_type": "markdown",
   "metadata": {},
   "source": [
    "#### 7.元组与集合"
   ]
  },
  {
   "cell_type": "markdown",
   "metadata": {},
   "source": [
    "(元组)与[列表]的区别：元组创建后元素就*不可以被更改*\n",
    "\n",
    "但都可以用for,for in这样来遍历，和列表使用方法一样\n",
    "\n",
    "也可以用下标访问"
   ]
  },
  {
   "cell_type": "code",
   "execution_count": null,
   "metadata": {},
   "outputs": [],
   "source": [
    "a = (1,5,3)\n",
    "print(a[1])"
   ]
  },
  {
   "cell_type": "code",
   "execution_count": null,
   "metadata": {},
   "outputs": [],
   "source": [
    "a = \"123456\"\n",
    "b = [1,2,3,4,5,6]\n",
    "c = (77,88,\"99\")\n",
    "\n",
    "for i in b:\n",
    "    print(i,end=\",\")\n",
    "\n",
    "\n",
    "for i in range(len(c)): #用下标访问\n",
    "    print(c[i],end=\",\")\n"
   ]
  },
  {
   "cell_type": "markdown",
   "metadata": {},
   "source": [
    "**（）改为{}就是集合了**\n",
    "\n",
    "集合两个特性：\n",
    "\n",
    "无序性\n",
    "\n",
    "不重复性\n",
    "\n",
    "也具有一系列增删改查的方法，和列表一样\n"
   ]
  },
  {
   "cell_type": "code",
   "execution_count": null,
   "metadata": {},
   "outputs": [],
   "source": [
    "a = {15,65,94,32}\n",
    "print(a)\n",
    "\n",
    "#虽然看上去有序，其实在逻辑上没有顺序"
   ]
  },
  {
   "cell_type": "markdown",
   "metadata": {},
   "source": [
    "#### 8.字典"
   ]
  },
  {
   "cell_type": "markdown",
   "metadata": {},
   "source": [
    "字典也是大括号，但里面的元素是由**键值对**表达的\n",
    "\n",
    "~键和值可以是任意的数据类型"
   ]
  },
  {
   "cell_type": "code",
   "execution_count": 25,
   "metadata": {},
   "outputs": [
    {
     "name": "stdout",
     "output_type": "stream",
     "text": [
      "dict_keys(['Name', 'age'])\n",
      "dict_values(['Oli', 23])\n",
      "dict_items([('Name', 'Oli'), ('age', 23)])\n",
      "Name\n",
      "Oli\n",
      "age\n",
      "23\n"
     ]
    }
   ],
   "source": [
    "a = {\"Name\":\"Oli\",\"age\":23}\n",
    "\n",
    "print(a.keys()) #获得所有的键\n",
    "\n",
    "print(a.values()) #获得所有值\n",
    "\n",
    "print(a.items()) #返回所有的键值对组成的元组\n",
    "\n",
    "for k,v in a.items():\n",
    "    print(k)  #k是键\n",
    "    print(v)  #v是值"
   ]
  },
  {
   "cell_type": "code",
   "execution_count": 4,
   "metadata": {},
   "outputs": [],
   "source": [
    "a = {} #表示空字典\n",
    "\n",
    "b = set() #表示空集合"
   ]
  },
  {
   "cell_type": "code",
   "execution_count": 27,
   "metadata": {},
   "outputs": [
    {
     "name": "stdout",
     "output_type": "stream",
     "text": [
      "Oli\n",
      "{'Name': '左恒滔', 'age': 18}\n",
      "{'Name': '左恒滔'}\n",
      "{}\n"
     ]
    }
   ],
   "source": [
    "a = {\"Name\":\"Oli\",\"age\":18}\n",
    "\n",
    "print(a[\"Name\"]) #返回结果为所查找的键的值\n",
    "\n",
    "a[\"Name\"] = \"左恒滔\"\n",
    "print(a)\n",
    "\n",
    "del a[\"age\"] #直接删除这个键值对\n",
    "print(a)\n",
    "\n",
    "a.clear() #清空字典\n",
    "print(a)\n",
    "\n",
    "del a #删除字典\n"
   ]
  },
  {
   "cell_type": "markdown",
   "metadata": {},
   "source": [
    "### 二、进阶"
   ]
  },
  {
   "cell_type": "markdown",
   "metadata": {},
   "source": [
    "#### 1.函数"
   ]
  },
  {
   "cell_type": "code",
   "execution_count": 6,
   "metadata": {},
   "outputs": [
    {
     "name": "stdout",
     "output_type": "stream",
     "text": [
      "起床,吃饭,刷牙,睡觉\n",
      "执行完成\n",
      "起床,吃饭,刷牙,睡觉\n",
      "执行完成\n",
      "起床,吃饭,刷牙,睡觉\n",
      "执行完成\n",
      "起床,吃饭,刷牙,睡觉\n",
      "真\n"
     ]
    }
   ],
   "source": [
    "def day(): #函数也叫方法，day()就是个函数\n",
    "    print(\"起床\",end=\",\")\n",
    "    print(\"吃饭\",end=\",\")\n",
    "    print(\"刷牙\",end=\",\")\n",
    "    print(\"睡觉\")\n",
    " \n",
    "a = True\n",
    "for i in range(3):\n",
    "    day()\n",
    "    print(\"执行完成\")\n",
    "\n",
    "if a: #当这四步执行完的时候\n",
    "    day()\n",
    "    print(\"真\")"
   ]
  },
  {
   "cell_type": "code",
   "execution_count": 7,
   "metadata": {},
   "outputs": [
    {
     "name": "stdout",
     "output_type": "stream",
     "text": [
      "53是奇数\n"
     ]
    }
   ],
   "source": [
    "def isDuble(n):\n",
    "    if n % 2 == 0:\n",
    "        return True\n",
    "    else:\n",
    "        return False\n",
    "#此函数回返回一个布尔值，用来给下一段代码判断\n",
    "    \n",
    "a = int(input(\"输入一个数：\"))\n",
    "\n",
    "if isDuble(a):\n",
    "    print(f\"{a}是偶数\")\n",
    "else:\n",
    "    print(f\"{a}是奇数\")"
   ]
  },
  {
   "cell_type": "markdown",
   "metadata": {},
   "source": [
    "也可简化为下面这样："
   ]
  },
  {
   "cell_type": "code",
   "execution_count": null,
   "metadata": {},
   "outputs": [],
   "source": [
    "def isDuble(n):  #n是形参\n",
    "    return n % 2 == 0\n",
    "\n",
    "a = int(input(\"输入一个数：\")) #a是实参\n",
    "if isDuble(a):\n",
    "    print(f\"{a}是偶数\")\n",
    "else:\n",
    "    print(f\"{a}是奇数\")\n",
    "        "
   ]
  },
  {
   "cell_type": "code",
   "execution_count": null,
   "metadata": {},
   "outputs": [],
   "source": [
    "day = 10\n",
    "\n",
    "def DAY():\n",
    "    if day % 2 == 0:\n",
    "        print(\"吃饭\")\n",
    "    else:\n",
    "        print(\"睡觉\")\n",
    "\n",
    "DAY()\n",
    "\n",
    "# 函数名称不能和变量名称一样，函数名称不能和关键字一样\n"
   ]
  },
  {
   "cell_type": "code",
   "execution_count": null,
   "metadata": {},
   "outputs": [],
   "source": [
    "day = 11\n",
    "\n",
    "def DAY():\n",
    "    global day  #函数使用外部变量并且对外部变量进行了修改，就需要在函数最开始申明global\n",
    "    if day % 2 == 0:\n",
    "        print(\"吃饭\")\n",
    "    else:\n",
    "        print(\"睡觉\")\n",
    "        day += 1\n",
    "\n",
    "DAY()\n",
    "print(day)"
   ]
  },
  {
   "cell_type": "code",
   "execution_count": null,
   "metadata": {},
   "outputs": [],
   "source": [
    "def main():\n",
    "    for i in range(10):\n",
    "        print(i,end=',')\n",
    "        a()\n",
    "\n",
    "def a():\n",
    "    b()\n",
    "\n",
    "def b():\n",
    "    pass\n",
    "\n",
    "if __name__ == \"__main__\": \n",
    "# 这个是固定写法，表示只有在这个文件被直接运行的时候才会执行下面的代码,如果被其他文件引用，下面的代码不会执行,防止被其他文件引用时候不必要执行下面的代码\n",
    "    main()"
   ]
  },
  {
   "cell_type": "code",
   "execution_count": null,
   "metadata": {},
   "outputs": [],
   "source": [
    "def main():\n",
    "    for i in range(30):\n",
    "        a(i)\n",
    "\n",
    "def a(num):\n",
    "    if num <= 20:\n",
    "        print(num,end=',')\n",
    "    else:\n",
    "        return\n",
    "    \n",
    "if __name__ == \"__main__\":\n",
    "    main()\n",
    "\n",
    "\n"
   ]
  },
  {
   "cell_type": "code",
   "execution_count": 5,
   "metadata": {},
   "outputs": [
    {
     "name": "stdout",
     "output_type": "stream",
     "text": [
      "(1, 2, 3, 4, 5)\n",
      "1 2 3 4 5\n"
     ]
    }
   ],
   "source": [
    "def g():\n",
    "    return 1,2,3,4,5\n",
    "\n",
    "b = g()\n",
    "print(b) #返回一个元组\n",
    "\n",
    "a,b,c,d,e = g()\n",
    "print(a,b,c,d,e) #返回多个值,这个叫解包(拆包)\n"
   ]
  },
  {
   "cell_type": "code",
   "execution_count": 6,
   "metadata": {},
   "outputs": [
    {
     "name": "stdout",
     "output_type": "stream",
     "text": [
      "1-2-3-4-5-6-7-8-9-10-"
     ]
    }
   ],
   "source": [
    "def g(*args): #*args表示可变参数，可以传入任意多个参数\n",
    "    for i in args:\n",
    "        print(i,end='-')\n",
    "    \n",
    "g(1,2,3,4,5,6,7,8,9,10)"
   ]
  },
  {
   "cell_type": "code",
   "execution_count": 7,
   "metadata": {},
   "outputs": [
    {
     "name": "stdout",
     "output_type": "stream",
     "text": [
      "1\n",
      "2-3-4-5-6-7-8-9-10-"
     ]
    }
   ],
   "source": [
    "def g(n,*args): \n",
    "    print(n)\n",
    "    for i in args:\n",
    "        print(i,end='-')\n",
    "    \n",
    "g(1,2,3,4,5,6,7,8,9,10)"
   ]
  },
  {
   "cell_type": "code",
   "execution_count": 8,
   "metadata": {},
   "outputs": [],
   "source": [
    "def g(n,age=18,*a,**args): #**args表示可变参数，可以传入任意多个参数\n",
    "\n",
    "#参数必须按顺序，先写必须参数，再写默认参数，再写可变参数，最后写可变关键字参数\n",
    "\n",
    "    print(n) \n",
    "    print(age)\n",
    "    for i in a:\n",
    "        print(i,end='-')\n",
    "    for k,v in args.items():\n",
    "        print(k)\n",
    "        print(v)\n"
   ]
  },
  {
   "cell_type": "markdown",
   "metadata": {},
   "source": []
  }
 ],
 "metadata": {
  "kernelspec": {
   "display_name": "base",
   "language": "python",
   "name": "python3"
  },
  "language_info": {
   "codemirror_mode": {
    "name": "ipython",
    "version": 3
   },
   "file_extension": ".py",
   "mimetype": "text/x-python",
   "name": "python",
   "nbconvert_exporter": "python",
   "pygments_lexer": "ipython3",
   "version": "3.12.3"
  }
 },
 "nbformat": 4,
 "nbformat_minor": 2
}
