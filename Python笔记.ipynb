{
 "cells": [
  {
   "cell_type": "markdown",
   "metadata": {},
   "source": [
    "# 深度学习"
   ]
  },
  {
   "cell_type": "markdown",
   "metadata": {},
   "source": [
    "## 学习路线\n",
    "\n",
    "1.Python基础            4月25日前\n",
    "\n",
    "2.理论：哔站李宏毅老师课程 书籍：《深度学习详解》李宏毅、杨小康、周明           5月20日前\n",
    "\n",
    "3.编程实践：哔站李沐            6月1日前\n",
    "\n",
    "4.快速上手、看论文          7月1日前\n",
    "\n",
    "5.复现项目、做项目          8月1日前"
   ]
  },
  {
   "cell_type": "markdown",
   "metadata": {},
   "source": [
    "## Python基础"
   ]
  },
  {
   "cell_type": "markdown",
   "metadata": {},
   "source": [
    "### 一、入门"
   ]
  },
  {
   "cell_type": "markdown",
   "metadata": {},
   "source": [
    "1.变量\n",
    "\n",
    "首次使用**变量**会在内存中划分空间，并初始化值；\n",
    "\n",
    "再次使用**变量**不会再划分空间，修改原空间的值\n",
    "\n",
    "同一个变量可以反复赋值且可以是不同的类型\n",
    "\n",
    "---\n",
    "\n",
    "2.标识符\n",
    "\n",
    "**含义**：定义的变量名、函数名字\n",
    "\n",
    "**规定**：\n",
    "\n",
    "1.只能由数字、字母、下划线组成\n",
    "\n",
    "2.不能以数字开头\n",
    "\n",
    "3.不嫩是关键字\n",
    "\n",
    "4.严格区分大小写\n",
    "\n"
   ]
  },
  {
   "cell_type": "markdown",
   "metadata": {},
   "source": [
    "#### 1.条件"
   ]
  },
  {
   "cell_type": "markdown",
   "metadata": {},
   "source": [
    "**普通版**"
   ]
  },
  {
   "cell_type": "code",
   "execution_count": null,
   "metadata": {},
   "outputs": [],
   "source": [
    "a = 11\n",
    "b = a % 2\n",
    "c = b == 0 #返回True或False\n",
    "if c:\n",
    "    print(\"偶\")\n",
    "else:\n",
    "    print(\"奇\")\n",
    "print(\"程序结束\")\n"
   ]
  },
  {
   "cell_type": "markdown",
   "metadata": {},
   "source": [
    "**简化版**"
   ]
  },
  {
   "cell_type": "code",
   "execution_count": null,
   "metadata": {},
   "outputs": [],
   "source": [
    "a = 11\n",
    "if a % 2 == 0:\n",
    "    print(\"偶数\")\n",
    "else:\n",
    "    print(\"奇数\")\n",
    "print(\"程序结束\")"
   ]
  },
  {
   "cell_type": "markdown",
   "metadata": {},
   "source": [
    "**程序判断题**"
   ]
  },
  {
   "cell_type": "code",
   "execution_count": null,
   "metadata": {},
   "outputs": [],
   "source": [
    "a = int(input(\"输入数学一分数：\")) #强制类型转换\n",
    "if a < 0 or a > 150:\n",
    "    print(\"超过合理范围\")\n",
    "elif a < 60:\n",
    "    print(\"不行不行\")\n",
    "elif a < 100:\n",
    "    print(\"还不错\") \n",
    "elif a == 100:\n",
    "    print(\"你真是个天才\")\n",
    "else:\n",
    "    print(\"太牛了\")\n",
    "print(\"程序结束\")"
   ]
  },
  {
   "cell_type": "markdown",
   "metadata": {},
   "source": [
    "#### 2.循环"
   ]
  },
  {
   "cell_type": "markdown",
   "metadata": {},
   "source": [
    "**While循环**"
   ]
  },
  {
   "cell_type": "code",
   "execution_count": null,
   "metadata": {},
   "outputs": [],
   "source": [
    "a = 0\n",
    "while a < 12:\n",
    "    a += 1\n",
    "    print(a,end=',')"
   ]
  },
  {
   "cell_type": "markdown",
   "metadata": {},
   "source": [
    "由于if判断发生在*while内*所以下一个循环的a+1没有执行"
   ]
  },
  {
   "cell_type": "code",
   "execution_count": null,
   "metadata": {},
   "outputs": [],
   "source": [
    "a = 0\n",
    "while a < 10:\n",
    "    a += 1\n",
    "    if a == 5:\n",
    "        break\n",
    "    print(a,end=',')"
   ]
  },
  {
   "cell_type": "markdown",
   "metadata": {},
   "source": [
    "print在if外，在while内，只输出while循环结束时的值"
   ]
  },
  {
   "cell_type": "code",
   "execution_count": null,
   "metadata": {},
   "outputs": [],
   "source": [
    "a = 0\n",
    "while a < 10:\n",
    "    a += 1\n",
    "    if a == 5:\n",
    "        break\n",
    "print(a,end=',')"
   ]
  },
  {
   "cell_type": "markdown",
   "metadata": {},
   "source": [
    "continue跳过本轮循环进行下一轮循环，循环注意*变量需要增加*不然会变成死循环"
   ]
  },
  {
   "cell_type": "code",
   "execution_count": null,
   "metadata": {},
   "outputs": [],
   "source": [
    "a = 0\n",
    "while a < 10:\n",
    "    a += 1\n",
    "    if a == 5:\n",
    "        continue\n",
    "    print(a,end=',')"
   ]
  },
  {
   "cell_type": "markdown",
   "metadata": {},
   "source": [
    "**for循环**"
   ]
  },
  {
   "cell_type": "code",
   "execution_count": null,
   "metadata": {},
   "outputs": [],
   "source": [
    "# for i in [1,2,3,4,5,6,7,8,9,10]:\n",
    "for i in range(10): # in后面的东西是元组，列表，字典，字符串，集合都可以\n",
    "    print(i,end=',')"
   ]
  },
  {
   "cell_type": "markdown",
   "metadata": {},
   "source": [
    "range语句不会占用很大空间，从原理来看其实不等效"
   ]
  },
  {
   "cell_type": "markdown",
   "metadata": {},
   "source": [
    "#### 3.字符串切片与下标"
   ]
  },
  {
   "cell_type": "markdown",
   "metadata": {},
   "source": [
    "字符串编码，本质上是二进制与语言文字的一一对应关系"
   ]
  },
  {
   "cell_type": "markdown",
   "metadata": {},
   "source": [
    "|编码|指定时间|作用|所占字节数|\n",
    "|:--:|:--:|:--:|:--:|\n",
    "|ASCII|1976年|表示英语和西欧语言|8bit/1bytes|\n",
    "|GB2312|1980年|国家简体中文字符集，兼容ASCII|2bytes|\n",
    "|Unicode|1991年|国际标准组织统一标准字符集|2bytes|\n",
    "|GBK|1995年|GB2312的扩展字符集，支持繁体字，兼容GB2312|2bytes|\n",
    "|**UTF-8**|1992年|不定长编码|1-3bytes|\n",
    "---\n",
    "\n",
    "Unicode：所有字符都是两个字节，好处是字符与数字之间转换很快，坏处是占用空间大\n",
    "\n",
    "UTF-8：更加精准，对不同的长度字符用不同的长度表示，好处是节省空间，坏处是字符与数字转换速度较慢，每次都要计算字符用多少个字节表示"
   ]
  },
  {
   "cell_type": "markdown",
   "metadata": {},
   "source": [
    "**字符串编码转换**\n",
    "\n",
    "编码 `encode()` 将其他编码的字符串转换成Unicode编码\n",
    "\n",
    "解码 `decode()` 将Unicode编码转换成其他编码的字符串"
   ]
  },
  {
   "cell_type": "code",
   "execution_count": 29,
   "metadata": {},
   "outputs": [
    {
     "name": "stdout",
     "output_type": "stream",
     "text": [
      "Hello <class 'str'>\n",
      "编码后： b'Hello' <class 'bytes'>\n",
      "解码后： Hello <class 'str'>\n"
     ]
    }
   ],
   "source": [
    "a = \"Hello\"\n",
    "print(a,type(a)) #type()函数可以查看变量类型\n",
    "\n",
    "b = a.encode()\n",
    "print(\"编码后：\",b,type(b)) #encode()函数可以将字符串转换为字节类型\n",
    "\n",
    "c = b.decode()\n",
    "print(\"解码后：\",c,type(c)) #decode()函数可以将字节类型转换为字符串类型"
   ]
  },
  {
   "cell_type": "code",
   "execution_count": null,
   "metadata": {},
   "outputs": [
    {
     "name": "stdout",
     "output_type": "stream",
     "text": [
      "b'\\xe6\\x88\\x91\\xe5\\x8f\\xab\\xe5\\x88\\x98\\xe5\\xbe\\xb7\\xe5\\x8d\\x8e' <class 'bytes'>\n",
      "我叫刘德华 <class 'str'>\n"
     ]
    }
   ],
   "source": [
    "str = \"我叫刘德华\"\n",
    "st1 = str.encode(\"utf-8\") #将字符串转换为字节类型\n",
    "print(st1,type(st1)) #查看转换后的类型\n",
    "\n",
    "st2 = st1.decode(\"utf-8\") #将字节类型转换为字符串\n",
    "print(st2,type(st2)) #查看转换后的类型"
   ]
  },
  {
   "cell_type": "markdown",
   "metadata": {},
   "source": [
    "**下标\\索引**\n",
    "\n",
    "Python中下标从0开始\n",
    "\n",
    "格式：字符串名 [下标值]"
   ]
  },
  {
   "cell_type": "code",
   "execution_count": null,
   "metadata": {},
   "outputs": [
    {
     "name": "stdout",
     "output_type": "stream",
     "text": [
      "v\n",
      "s\n"
     ]
    }
   ],
   "source": [
    "a = \"Oliver Jackson\"\n",
    "\n",
    "print(a[3]) #正数索引从左往右数,从0开始\n",
    "print(a[-3]) #负数索引从右往左数,从1开始"
   ]
  },
  {
   "cell_type": "markdown",
   "metadata": {},
   "source": [
    "注意！*切片是左闭右开区间*"
   ]
  },
  {
   "cell_type": "code",
   "execution_count": 17,
   "metadata": {},
   "outputs": [
    {
     "name": "stdout",
     "output_type": "stream",
     "text": [
      "u! O\n",
      "u! Olier\n",
      "Nice to\n",
      "uO\n",
      "reilO !uoy teem ot eciN\n",
      "Olie\n"
     ]
    }
   ],
   "source": [
    "a = \"Nice to meet you! Olier\"\n",
    "b = a[15:19] #从第16开始取，取到第19个之前\n",
    "print(b)\n",
    "\n",
    "c = a[15:]\n",
    "print(c)  \n",
    "\n",
    "d = a[:7] #切到第几个之前\n",
    "print(d)\n",
    "\n",
    "e = a[15:19:3] #隔两个切一个，此处隔开了uc切到k，也可以理解隔三个切一个，隔开uck切到！前一个，也就是k\n",
    "print(e)\n",
    "\n",
    "f = a[::-1] #翻转整个列表\n",
    "print(f)\n",
    "\n",
    "g = a[-5:-1] #从倒数第五个截取到倒数第一个字符，但是不包括倒数第一个字符\n",
    "print(g)"
   ]
  },
  {
   "cell_type": "markdown",
   "metadata": {},
   "source": [
    "1.`replace()`替换元素，`replace(旧内容，新内容，替换次数)`，替换次数可以省略默认全部替换，也可以限制替换几次\n",
    "\n",
    "2.`split()` 指定分隔符来切分字符串\n",
    "\n",
    "3.``"
   ]
  },
  {
   "cell_type": "code",
   "execution_count": 18,
   "metadata": {},
   "outputs": [
    {
     "name": "stdout",
     "output_type": "stream",
     "text": [
      "glad to meet you! Olier\n",
      "['glad', 'to', 'meet', 'you!', 'Olier']\n",
      "glad_to_meet_you!_Olier\n",
      "['', 'lad to meet you! Olier']\n"
     ]
    }
   ],
   "source": [
    "a = \"Nice to meet you! Olier\"\n",
    "\n",
    "a = a.replace(\"Nice\",\"glad\")\n",
    "print(a)\n",
    "\n",
    "b = a.split(\" \")\n",
    "print(b)\n",
    "\n",
    "\n",
    "c = \"_\".join(b)\n",
    "print(c)\n",
    "\n",
    "d = a.split('g')\n",
    "print(d)"
   ]
  },
  {
   "cell_type": "code",
   "execution_count": 20,
   "metadata": {},
   "outputs": [
    {
     "name": "stdout",
     "output_type": "stream",
     "text": [
      "你\n",
      "6\n"
     ]
    }
   ],
   "source": [
    "a = \"你好呀你好呀~\"\n",
    "\n",
    "b = a[3]\n",
    "print(b)\n",
    "\n",
    "c = [1,2,6,4,5]\n",
    "e = c[2]\n",
    "print(e)"
   ]
  },
  {
   "cell_type": "markdown",
   "metadata": {},
   "source": [
    "#### 4.字符串运算符\n"
   ]
  },
  {
   "cell_type": "markdown",
   "metadata": {},
   "source": [
    "\n",
    "|操作符|描述|实例|\n",
    "|:--:|:--:|:--:|\n",
    "|+|字符串连接|a+b输出结果:Fuckyou|\n",
    "|*|重复输出字符串|a*2输出结果:FuckFuck|\n",
    "|[]|通过索引获取字符串中字符|a[1]输出结果:u|\n",
    "|[:]|截取字符串中的一部分|a[1:3]输出结果:uck|\n",
    "|in|成员运算符-如果字符串中**包含**给定字符返回True| 'F' in a 输出结果为true|\n",
    "|not in|成员运算符-如果字符串中**不包含**给定字符则返回true|'S' not in a 输出结果为true|\n",
    "|r/R|原始字符串，所有字符串都按照字面意思使用，消除转义的功能|print r'\\n'"
   ]
  },
  {
   "cell_type": "markdown",
   "metadata": {},
   "source": [
    "**字符串链接**"
   ]
  },
  {
   "cell_type": "code",
   "execution_count": 21,
   "metadata": {},
   "outputs": [
    {
     "name": "stdout",
     "output_type": "stream",
     "text": [
      "Remotesensing\n",
      "Remote sensing\n",
      "Remotesensing\n"
     ]
    }
   ],
   "source": [
    "a = \"Remote\"\n",
    "b = \"sensing\"\n",
    "\n",
    "print(a + b)\n",
    "print(a,b)\n",
    "print(a,b,sep=\"\")"
   ]
  },
  {
   "cell_type": "markdown",
   "metadata": {},
   "source": [
    "**重复输出**"
   ]
  },
  {
   "cell_type": "code",
   "execution_count": 18,
   "metadata": {},
   "outputs": [
    {
     "name": "stdout",
     "output_type": "stream",
     "text": [
      "Oliver\n",
      "Oliver\n",
      "Oliver\n",
      "Oliver\n",
      "\n"
     ]
    }
   ],
   "source": [
    "print(\"Oliver\\n\"*4) #需要输出多少次，*号后面乘数就是多少"
   ]
  },
  {
   "cell_type": "markdown",
   "metadata": {},
   "source": [
    "**成员运算符**"
   ]
  },
  {
   "cell_type": "code",
   "execution_count": 28,
   "metadata": {},
   "outputs": [
    {
     "name": "stdout",
     "output_type": "stream",
     "text": [
      "yes\n",
      "YES\n",
      "False\n"
     ]
    }
   ],
   "source": [
    "a = \"Oliver Jackson\"\n",
    "\n",
    "if \"iv\" in a: \n",
    "    print(\"yes\")\n",
    "else:\n",
    "    print(\"No\")\n",
    "\n",
    "if \"b\" not in a:\n",
    "    print(\"YES\")\n",
    "\n",
    "print(\"hello\" in a)"
   ]
  },
  {
   "cell_type": "markdown",
   "metadata": {},
   "source": [
    "#### 5.字符串常见操作"
   ]
  },
  {
   "cell_type": "markdown",
   "metadata": {},
   "source": [
    "1.`find` 检测某个字符串是否包含于另一字符串中，返回布尔\n",
    "\n",
    "2.`count` 返回出现的次数\n",
    "\n",
    "3.`replace` 替换\n",
    "\n",
    "4.`split` 分割，以列表的形式返回，如果字符串中不包含分割内容，则不进行分割，返回整体字符串\n",
    "\n",
    "5.`index` 和find比较像但是会报异常\n",
    "\n",
    "6.`capitalize` 第一个字符大写\n",
    "\n",
    "7.`startswith` 是否以某字符开头，返回布尔\n",
    "\n",
    "8.`endswith` 是否以某字符结尾，返回布尔\n",
    "\n",
    "9.`lower` 大写字符转为小写字符\n",
    "\n",
    "10.`upper` 小写转为大写"
   ]
  },
  {
   "cell_type": "markdown",
   "metadata": {},
   "source": [
    "`find` 检测某个字符串是否包含于另一字符串中，如果在就返回这个子字符串的下标，否则就返回-1\n",
    "\n",
    "`find(子字符串，开始位置下标，结束未知下标)` 开始位置下标和结束未知下标可以省略，表示在整个字符串中查找"
   ]
  },
  {
   "cell_type": "code",
   "execution_count": null,
   "metadata": {},
   "outputs": [
    {
     "name": "stdout",
     "output_type": "stream",
     "text": [
      "5\n",
      "7\n",
      "12\n",
      "5\n"
     ]
    }
   ],
   "source": [
    "name = \"oliver Jackson\"\n",
    "\n",
    "print(name.find('r')) #第一个r的下标为5\n",
    "print(name.find('Ja')) #区分大小写，是第一个字母所在的位置，J的下标为7\n",
    "print(name.find('o',3)) #找的是从第3个开始往后找的\n",
    "print(name.find('r',3,8)) #在第3到第8个中间找，不包含第八个，左闭右开区间"
   ]
  },
  {
   "cell_type": "markdown",
   "metadata": {},
   "source": [
    "`index` 和 `find` 较像但是会报异常，如果在就返回子字符串开始位置下标，否则报错。"
   ]
  },
  {
   "cell_type": "code",
   "execution_count": 13,
   "metadata": {},
   "outputs": [
    {
     "name": "stdout",
     "output_type": "stream",
     "text": [
      "2\n",
      "12\n"
     ]
    }
   ],
   "source": [
    "name = 'oliver jackson'\n",
    "\n",
    "print(name.index('i'))\n",
    "print(name.index('o',2,13)) #未找到就报错，也是左开右闭区间"
   ]
  },
  {
   "cell_type": "markdown",
   "metadata": {},
   "source": [
    "`count` 返回出现的次数，某个子字符串在整个字符串中出现的次数，没有就返回0"
   ]
  },
  {
   "cell_type": "code",
   "execution_count": 15,
   "metadata": {},
   "outputs": [
    {
     "name": "stdout",
     "output_type": "stream",
     "text": [
      "2\n",
      "1\n"
     ]
    }
   ],
   "source": [
    "name = 'oliver jackson'\n",
    "\n",
    "print(name.count('o'))\n",
    "print(name.count('o',2))"
   ]
  },
  {
   "cell_type": "code",
   "execution_count": 11,
   "metadata": {},
   "outputs": [
    {
     "name": "stdout",
     "output_type": "stream",
     "text": [
      "False\n",
      "True\n",
      "OLIVER\n",
      "jackson\n",
      "Jackson\n",
      "Oliver Jackson\n",
      "OLIVER jacksoN\n",
      "False\n"
     ]
    }
   ],
   "source": [
    "print('oliver'.startswith('s')) #是否以某个字符开头\n",
    "\n",
    "print('oliver'.endswith('r')) #是否以某个字符结尾\n",
    "\n",
    "print('oliver'.upper()) #全部大写\n",
    "\n",
    "print('JACKSOn'.lower()) #全部小写\n",
    "\n",
    "print('JACKSOn'.capitalize()) #首字母大写，其他小写\n",
    "\n",
    "print('oliver JACKSOn'.title()) #每个单词首字母大写，其他小写\n",
    "\n",
    "print('oliver JACKSOn'.swapcase()) #大小写互换\n",
    "\n",
    "print('Oliver'.isupper()) #是否全部大写"
   ]
  },
  {
   "cell_type": "markdown",
   "metadata": {},
   "source": [
    "#### 6.列表"
   ]
  },
  {
   "cell_type": "markdown",
   "metadata": {},
   "source": [
    "**定义**\n",
    "\n",
    "是处理一组**有序**项目的数据结构\n",
    "\n",
    "**格式**\n",
    "\n",
    "列表名 = [元素1，元素2，元素...]\n",
    "\n",
    "**注意：**\n",
    "\n",
    "列表所有元素放在一对中括号中，并使用逗号隔开；一个列表中的**数据类型**可以各不相同"
   ]
  },
  {
   "cell_type": "code",
   "execution_count": 1,
   "metadata": {},
   "outputs": [
    {
     "name": "stdout",
     "output_type": "stream",
     "text": [
      "['age', 12, True] <class 'list'>\n"
     ]
    }
   ],
   "source": [
    "a = ['age',12,True]\n",
    "\n",
    "print(a,type(a)) #列表类型"
   ]
  },
  {
   "cell_type": "code",
   "execution_count": null,
   "metadata": {},
   "outputs": [],
   "source": [
    "a = [[1,2,3],[4,5,6],[7,8,9]]\n",
    "\n",
    "b = a[2][0] #取第三组里面的第一个\n",
    "print(b)"
   ]
  },
  {
   "cell_type": "markdown",
   "metadata": {},
   "source": [
    "**遍历列表**"
   ]
  },
  {
   "cell_type": "code",
   "execution_count": null,
   "metadata": {},
   "outputs": [],
   "source": [
    "a = [[[1, 2, 3], [4, 5, 6], [7, 8, 9]],\n",
    "    [[10, 11, 12], [13, 14, 15], [16, 17, 18]],\n",
    "    [[19, 20, 21], [22, 23, 24], [25, 26, 27]]]\n",
    "\n",
    "for b in a:\n",
    "    for c in b:\n",
    "        for d in c:\n",
    "            print(d,end=',')\n"
   ]
  },
  {
   "cell_type": "markdown",
   "metadata": {},
   "source": [
    "**列表的为所欲为**"
   ]
  },
  {
   "cell_type": "code",
   "execution_count": null,
   "metadata": {},
   "outputs": [],
   "source": [
    "b = 250\n",
    "a = [6,\"黑哥哥\",True,b,48]\n",
    "\n",
    "if 6 in a:\n",
    "    print(\"牛\")\n",
    "\n",
    "if b not in a:\n",
    "    print(\"Nice\")\n",
    "else:\n",
    "    print(\"No\")"
   ]
  },
  {
   "cell_type": "markdown",
   "metadata": {},
   "source": [
    "列表的常见操作"
   ]
  },
  {
   "cell_type": "code",
   "execution_count": 23,
   "metadata": {},
   "outputs": [
    {
     "name": "stdout",
     "output_type": "stream",
     "text": [
      "[6, '你好', True, 250, 48, 'Jackson']\n",
      "[6, '你好', True, 250, 48, 'Jackson', 'o', 'l', 'i']\n",
      "[6, '早上好', '你好', True, 250, 48, 'Jackson', 'o', 'l', 'i']\n",
      "[6, '早上好', '你好', 250, 48, 'Jackson', 'o', 'l', 'i']\n",
      "[6, '早上好', '你好', 250, 'Jackson', 'o', 'l', 'i']\n",
      "[]\n"
     ]
    }
   ],
   "source": [
    "b = 250\n",
    "a = [6,\"你好\",True,b,48]\n",
    "\n",
    "a.append(\"Jackson\") #末尾加，整体添加\n",
    "print(a)\n",
    "\n",
    "a.extend('oli') #分散添加，将另一个类型的元素逐一添加，不可用于int，要可迭代对象\n",
    "print(a)\n",
    "\n",
    "a.insert(1,\"早上好\") #加载第二个元素前面，需要指定添加位置，原有元素后移\n",
    "print(a)\n",
    "\n",
    "a.pop(3) #去除第四个元素，Python3无参数时候会默认删除最后一个，指定的是索引，索引必须合理\n",
    "print(a)\n",
    "\n",
    "a.remove(48) #去除48这个元素，如果有重复的，默认删除第一个；列表必须包含元素，否则报错\n",
    "print(a)\n",
    "\n",
    "a.clear() #清空列表\n",
    "print(a)\n",
    "\n",
    "del a #删除列表\n"
   ]
  },
  {
   "cell_type": "markdown",
   "metadata": {},
   "source": [
    "**列表赋值**\n"
   ]
  },
  {
   "cell_type": "code",
   "execution_count": 24,
   "metadata": {},
   "outputs": [
    {
     "name": "stdout",
     "output_type": "stream",
     "text": [
      "[6, '你好', True, 250, 48]\n"
     ]
    }
   ],
   "source": [
    "b = 250\n",
    "a = [6,\"你好\",True,b,48]\n",
    "\n",
    "c = a.copy() #推荐方法\n",
    "print(c)\n",
    "\n",
    "c = a #这种方法也可以，不过修改a的元素c也会变，相当于c创建指针指向a，a指向内存\n"
   ]
  },
  {
   "cell_type": "markdown",
   "metadata": {},
   "source": [
    "列表可以修改里面的内容，但是字符串不可以，会报错"
   ]
  },
  {
   "cell_type": "code",
   "execution_count": null,
   "metadata": {},
   "outputs": [],
   "source": [
    "b = 12\n",
    "a = [1,False,\"happy\",b,[1,2,3]]\n",
    "\n",
    "a[0] = 123\n",
    "print(a)\n",
    "\n",
    "a[1] = \"sb\"\n",
    "print(a)\n",
    "\n",
    "# string = \"Oliver\"\n",
    "# string[0] = \"b\"\n",
    "# print(string)\n"
   ]
  },
  {
   "cell_type": "markdown",
   "metadata": {},
   "source": [
    "**列表排序**"
   ]
  },
  {
   "cell_type": "markdown",
   "metadata": {},
   "source": [
    "`sort` 默认从小到大"
   ]
  },
  {
   "cell_type": "code",
   "execution_count": null,
   "metadata": {},
   "outputs": [],
   "source": [
    "a = [15,58,47,261,1,65]\n",
    "\n",
    "a.sort() #没有返回值，直接修改a的元素\n",
    "print(a)\n",
    "\n",
    "c = sorted(a) #有返回值\n",
    "print(c)"
   ]
  },
  {
   "cell_type": "markdown",
   "metadata": {},
   "source": [
    "**列表查找**"
   ]
  },
  {
   "cell_type": "code",
   "execution_count": 8,
   "metadata": {},
   "outputs": [
    {
     "name": "stdout",
     "output_type": "stream",
     "text": [
      "True\n",
      "False\n"
     ]
    }
   ],
   "source": [
    "a = ['oli','bill',123,True]\n",
    "\n",
    "print('oli' in a)\n",
    "\n",
    "print(True not in a)"
   ]
  },
  {
   "cell_type": "code",
   "execution_count": 16,
   "metadata": {},
   "outputs": [
    {
     "name": "stdout",
     "output_type": "stream",
     "text": [
      "昵称重复，换一个试试！\n",
      "昵称重复，换一个试试！\n",
      "['oli', 'bill', 'anne']\n"
     ]
    }
   ],
   "source": [
    "#案例：用户输入昵称，昵称重复则不能使用\n",
    "name_list = ['oli','bill']\n",
    "\n",
    "while True:\n",
    "    name = input(\"请输入昵称：\")\n",
    "\n",
    "    if name in name_list:\n",
    "        print(\"昵称重复，换一个试试！\")\n",
    "    else:\n",
    "        name_list.append(name)    \n",
    "        print(name_list)\n",
    "        break"
   ]
  },
  {
   "cell_type": "markdown",
   "metadata": {},
   "source": [
    "`index` 和 `count` 与字符串中用法相同"
   ]
  },
  {
   "cell_type": "markdown",
   "metadata": {},
   "source": [
    "**例子**：把奇数放进列表里面"
   ]
  },
  {
   "cell_type": "code",
   "execution_count": 32,
   "metadata": {},
   "outputs": [
    {
     "name": "stdout",
     "output_type": "stream",
     "text": [
      "[1, 3, 5, 7, 9]\n"
     ]
    }
   ],
   "source": [
    "a = []\n",
    "for i in range(1,10):\n",
    "    if i % 2 != 0:\n",
    "        a.append(i)\n",
    "print(a)\n"
   ]
  },
  {
   "cell_type": "markdown",
   "metadata": {},
   "source": [
    "注：列表推导式"
   ]
  },
  {
   "cell_type": "code",
   "execution_count": 33,
   "metadata": {},
   "outputs": [
    {
     "name": "stdout",
     "output_type": "stream",
     "text": [
      "[1, 3, 5, 7, 9, 1, 3, 5, 7, 9]\n"
     ]
    }
   ],
   "source": [
    "[a.append(i) for i in range(1,10) if i % 2 != 0] #列表推导式，简化代码\n",
    "print(a)"
   ]
  },
  {
   "cell_type": "markdown",
   "metadata": {},
   "source": [
    "#### 7.元组与集合"
   ]
  },
  {
   "cell_type": "markdown",
   "metadata": {},
   "source": [
    "(元组)与[列表]的区别：元组创建后元素就**不可以被更改**，不支持增删改擦操作\n",
    "\n",
    "元组只有一个元素末尾必须加逗号\n",
    "\n",
    "但都可以用for,for in这样来遍历，和列表使用方法一样\n",
    "\n",
    "也可以用下标访问\n",
    "\n",
    "使用 `count()` `index()` `len()` 与列表方式一样"
   ]
  },
  {
   "cell_type": "code",
   "execution_count": null,
   "metadata": {},
   "outputs": [],
   "source": [
    "a = (1,5,3)\n",
    "print(a[1])"
   ]
  },
  {
   "cell_type": "code",
   "execution_count": null,
   "metadata": {},
   "outputs": [],
   "source": [
    "a = \"123456\"\n",
    "b = [1,2,3,4,5,6]\n",
    "c = (77,88,\"99\")\n",
    "\n",
    "for i in b:\n",
    "    print(i,end=\",\")\n",
    "\n",
    "\n",
    "for i in range(len(c)): #用下标访问\n",
    "    print(c[i],end=\",\")\n"
   ]
  },
  {
   "cell_type": "markdown",
   "metadata": {},
   "source": [
    "**（）改为{}就是集合了**\n",
    "\n",
    "集合两个特性：\n",
    "\n",
    "无序性，实现方式设计hash表\n",
    "\n",
    "不重复性\n",
    "\n",
    "也具有一系列增删改查的方法，和列表一样\n"
   ]
  },
  {
   "cell_type": "code",
   "execution_count": 15,
   "metadata": {},
   "outputs": [
    {
     "name": "stdout",
     "output_type": "stream",
     "text": [
      "{32, 65, 94, 15}\n"
     ]
    }
   ],
   "source": [
    "set = {15,65,94,32}\n",
    "print(set)\n",
    "\n",
    "#虽然看上去有序，其实在逻辑上没有顺序"
   ]
  },
  {
   "cell_type": "code",
   "execution_count": 5,
   "metadata": {},
   "outputs": [
    {
     "name": "stdout",
     "output_type": "stream",
     "text": [
      "<class 'dict'>\n"
     ]
    }
   ],
   "source": [
    "s1 = {}\n",
    "print(type(s1)) #空字典"
   ]
  },
  {
   "cell_type": "markdown",
   "metadata": {},
   "source": [
    "**无序性**，Python中into整型的hash值就是它本身，在hash表中的位置不会发生变化，位置不会改变；但用\"\"包起来变成了字符串类型，所以hash会改变\n",
    "\n",
    "无序性不可以修改集合中的值，利用唯一性可以自动去重"
   ]
  },
  {
   "cell_type": "code",
   "execution_count": 22,
   "metadata": {},
   "outputs": [
    {
     "name": "stdout",
     "output_type": "stream",
     "text": [
      "1\n",
      "2\n",
      "-4833314287012911613\n",
      "2926610561398378254\n"
     ]
    }
   ],
   "source": [
    "print(hash(1))\n",
    "print(hash(2))\n",
    "\n",
    "print(hash('1'))\n",
    "print(hash('2'))"
   ]
  },
  {
   "cell_type": "markdown",
   "metadata": {},
   "source": [
    "`add()` 添加的是一个整体"
   ]
  },
  {
   "cell_type": "code",
   "execution_count": 23,
   "metadata": {},
   "outputs": [
    {
     "name": "stdout",
     "output_type": "stream",
     "text": [
      "{1, 2, 3, 4, 5, 6}\n"
     ]
    }
   ],
   "source": [
    "s = {1,2,3,4,5}\n",
    "s.add(6) #添加元素\n",
    "print(s)"
   ]
  },
  {
   "cell_type": "markdown",
   "metadata": {},
   "source": [
    "`update()` 把传入的元素拆分，放入集合中"
   ]
  },
  {
   "cell_type": "code",
   "execution_count": 31,
   "metadata": {},
   "outputs": [
    {
     "name": "stdout",
     "output_type": "stream",
     "text": [
      "{1, 2, 3, 4, 5, 6, 7, 8, 'o', 'i', 'l'}\n"
     ]
    }
   ],
   "source": [
    "s = {1,2,3,4,5}\n",
    "s.update([6,7,8]) #添加多个元素\n",
    "s.update(\"oli\") #添加多个元素,且可迭代对象无序\n",
    "print(s)"
   ]
  },
  {
   "cell_type": "markdown",
   "metadata": {},
   "source": [
    "`remove()` 选择数字就有删除，没有就报错"
   ]
  },
  {
   "cell_type": "code",
   "execution_count": 27,
   "metadata": {},
   "outputs": [
    {
     "name": "stdout",
     "output_type": "stream",
     "text": [
      "{2, 3, 4, 5}\n"
     ]
    }
   ],
   "source": [
    "s = {1,2,3,4,5,\"oli\"}\n",
    "s.remove(1) #删除元素，删除不存在的元素会报错\n",
    "s.remove('oli')\n",
    "print(s)"
   ]
  },
  {
   "cell_type": "markdown",
   "metadata": {},
   "source": [
    "`pop()` 进行无序排列，然后将左边第一个元素删除"
   ]
  },
  {
   "cell_type": "code",
   "execution_count": 28,
   "metadata": {},
   "outputs": [
    {
     "name": "stdout",
     "output_type": "stream",
     "text": [
      "{2, 3, 4, 5, 'oli'}\n"
     ]
    }
   ],
   "source": [
    "s = {1,2,3,4,5,\"oli\"}\n",
    "s.pop() #随机删除一个元素\n",
    "print(s) #随机删除一个元素，删除后没有返回值"
   ]
  },
  {
   "cell_type": "markdown",
   "metadata": {},
   "source": [
    "`discard()` 选择元素删除，没有就不进行任何操作"
   ]
  },
  {
   "cell_type": "code",
   "execution_count": 30,
   "metadata": {},
   "outputs": [
    {
     "name": "stdout",
     "output_type": "stream",
     "text": [
      "{2, 3, 4, 5, 'oli'}\n"
     ]
    }
   ],
   "source": [
    "s = {1,2,3,4,5,\"oli\"}\n",
    "s.discard(1) #删除元素，删除不存在的元素不会报错\n",
    "s.discard('jackson')\n",
    "print(s) #删除元素，删除不存在的元素不会报错"
   ]
  },
  {
   "cell_type": "markdown",
   "metadata": {},
   "source": [
    "**交集&** 和 **并集|** 还有 **差集-**"
   ]
  },
  {
   "cell_type": "code",
   "execution_count": 33,
   "metadata": {},
   "outputs": [
    {
     "name": "stdout",
     "output_type": "stream",
     "text": [
      "{1, 2, 3, 4, 5}\n",
      "{1, 2, 3, 4, 5, 'oli', 'jackson'}\n"
     ]
    }
   ],
   "source": [
    "a = {1,2,3,4,5,\"oli\"}\n",
    "b = {1,2,3,4,5,\"jackson\"}\n",
    "\n",
    "print(a & b) #交集，两个集合都有的元素\n",
    "\n",
    "print(a | b) #并集，两个集合都有的元素，去重"
   ]
  },
  {
   "cell_type": "code",
   "execution_count": 36,
   "metadata": {},
   "outputs": [
    {
     "name": "stdout",
     "output_type": "stream",
     "text": [
      "set()\n",
      "{1, 2, 3}\n"
     ]
    }
   ],
   "source": [
    "a = {1,2,3}\n",
    "b = {4,5,6}\n",
    "\n",
    "print(a & b) #交集，两个集合都有的元素,没有就返回空集合\n",
    "print(a - b) #差集，a有b没有的元素"
   ]
  },
  {
   "cell_type": "markdown",
   "metadata": {},
   "source": []
  },
  {
   "cell_type": "markdown",
   "metadata": {},
   "source": [
    "#### 8.字典"
   ]
  },
  {
   "cell_type": "markdown",
   "metadata": {},
   "source": [
    "字典也是大括号，但里面的元素是由**键值对**表达的\n",
    "\n",
    "键和值可以是任意的数据类型\n",
    "\n",
    "字典中的键具有**唯一性**，但是值可以重复，后面的值会覆盖前面的\n",
    "\n",
    "字典中没有下标，查找元素需要使用索引"
   ]
  },
  {
   "cell_type": "markdown",
   "metadata": {},
   "source": [
    "`keys()` 只取出键名字\n",
    "\n",
    "`values()` 只取出值\n",
    "\n",
    "`items()` 取出键值对"
   ]
  },
  {
   "cell_type": "code",
   "execution_count": null,
   "metadata": {},
   "outputs": [
    {
     "name": "stdout",
     "output_type": "stream",
     "text": [
      "dict_keys(['Name', 'age'])\n",
      "dict_values(['Oli', 23])\n",
      "dict_items([('Name', 'Oli'), ('age', 23)])\n",
      "Name\n",
      "Oli\n",
      "age\n",
      "23\n"
     ]
    }
   ],
   "source": [
    "a = {\"Name\":\"Oli\",\"age\":23}\n",
    "\n",
    "print(a.keys()) #获得所有的键\n",
    "\n",
    "print(a.values()) #获得所有值\n",
    "\n",
    "print(a.items()) #返回所有的键值对组成的元组\n",
    "\n",
    "for k,v in a.items():\n",
    "    print(k)  #k是键\n",
    "    print(v)  #v是值"
   ]
  },
  {
   "cell_type": "markdown",
   "metadata": {},
   "source": [
    "查看元素\n",
    "\n",
    "变量名[键名]\n",
    "\n",
    "键名存在就修改，不存在就新增加\n",
    "\n",
    "`popitem()` 默认删除最后一个键值对"
   ]
  },
  {
   "cell_type": "code",
   "execution_count": 4,
   "metadata": {},
   "outputs": [],
   "source": [
    "a = {} #表示空字典\n",
    "\n",
    "b = set() #表示空集合"
   ]
  },
  {
   "cell_type": "code",
   "execution_count": 2,
   "metadata": {},
   "outputs": [
    {
     "name": "stdout",
     "output_type": "stream",
     "text": [
      "Oli\n",
      "{'Name': '左恒滔', 'age': 23}\n",
      "{'Name': '左恒滔', 'sex': '男'}\n",
      "{}\n"
     ]
    }
   ],
   "source": [
    "a = {\"Name\":\"Oli\",\"age\":23}\n",
    "\n",
    "print(a[\"Name\"]) #返回结果为所查找的键的值\n",
    "\n",
    "a[\"Name\"] = \"左恒滔\"\n",
    "print(a)\n",
    "\n",
    "a[\"sex\"] = \"男\" #添加新的键值对\n",
    "\n",
    "del a[\"age\"] #直接删除这个键值对\n",
    "print(a)\n",
    "\n",
    "a.clear() #清空字典\n",
    "print(a)\n",
    "\n",
    "del a #删除字典\n"
   ]
  },
  {
   "cell_type": "markdown",
   "metadata": {},
   "source": [
    "\n",
    "`len()`求长度"
   ]
  },
  {
   "cell_type": "code",
   "execution_count": 3,
   "metadata": {},
   "outputs": [
    {
     "name": "stdout",
     "output_type": "stream",
     "text": [
      "{'Name': 'Oli', 'age': 23} 2\n"
     ]
    }
   ],
   "source": [
    "a = {\"Name\":\"Oli\",\"age\":23}\n",
    "\n",
    "print(a,len(a)) #len()函数可以查看字典的长度"
   ]
  },
  {
   "cell_type": "markdown",
   "metadata": {},
   "source": [
    "### 二、进阶"
   ]
  },
  {
   "cell_type": "markdown",
   "metadata": {},
   "source": [
    "#### 1.类型转换"
   ]
  },
  {
   "cell_type": "markdown",
   "metadata": {},
   "source": [
    "`int()` 转换为整数，如果字符串中有数字和正负号以外的字符就会报错"
   ]
  },
  {
   "cell_type": "markdown",
   "metadata": {},
   "source": [
    "`float()` 转换为浮点数，如果字符串中有数字和正负号以外的字符就会报错"
   ]
  },
  {
   "cell_type": "markdown",
   "metadata": {},
   "source": [
    "`str()` 转化为字符串"
   ]
  },
  {
   "cell_type": "code",
   "execution_count": 49,
   "metadata": {},
   "outputs": [
    {
     "name": "stdout",
     "output_type": "stream",
     "text": [
      "1.43 <class 'float'>\n",
      "1 <class 'int'>\n",
      "1.0 <class 'float'>\n",
      "1.43 <class 'str'>\n",
      "True <class 'bool'>\n",
      "123 <class 'int'>\n"
     ]
    }
   ],
   "source": [
    "a = 1.43\n",
    "print(a,type(a)) #浮点数类型\n",
    "\n",
    "b = int(a)\n",
    "print(b,type(b)) #强制转换为整数类型，直接去掉小数点后面的部分\n",
    "\n",
    "c = float(b)\n",
    "print(c,type(c)) #强制转换为浮点数类型\n",
    "\n",
    "d = str(a)\n",
    "print(d,type(d)) #强制转换为字符串类型    \n",
    "\n",
    "e = bool(a) #强制转换为布尔类型，非零即True\n",
    "print(e,type(e)) #强制转换为布尔类型，非零即True\n",
    "\n",
    "f = int('123') #强制转换为整数类型，字符串必须是数字，否则报错\n",
    "print(f,type(f)) #强制转换为整数类型，字符串必须是数字，否则报错"
   ]
  },
  {
   "cell_type": "markdown",
   "metadata": {},
   "source": [
    "`eval(str)` 用来执行在字符串中的有效Python表达式，并返回一个对象，可以实现list\\dict\\tuple和str之间的转换"
   ]
  },
  {
   "cell_type": "code",
   "execution_count": 54,
   "metadata": {},
   "outputs": [
    {
     "name": "stdout",
     "output_type": "stream",
     "text": [
      "20\n",
      "1010\n",
      "10 + 10\n",
      "20\n"
     ]
    }
   ],
   "source": [
    "print(10 + 10)\n",
    "print('10' + '10')\n",
    "print('10 + 10')\n",
    "\n",
    "print(eval('10 + 10')) #eval()函数可以将字符串转换为表达式，返回值为表达式的值,整型和字符串不可相加\n"
   ]
  },
  {
   "cell_type": "markdown",
   "metadata": {},
   "source": [
    "`eval()` 非常强大但不安全，容易被修改数据"
   ]
  },
  {
   "cell_type": "code",
   "execution_count": 62,
   "metadata": {},
   "outputs": [
    {
     "name": "stdout",
     "output_type": "stream",
     "text": [
      "[[1,2],[3,4],[5,6]] <class 'str'>\n",
      "[[1, 2], [3, 4], [5, 6]] <class 'list'>\n",
      "{'name': 'Oli', 'age': 23} <class 'dict'>\n",
      "{'name':'Oli','age':23} <class 'str'>\n"
     ]
    }
   ],
   "source": [
    "st1 = '[[1,2],[3,4],[5,6]]'\n",
    "print(st1,type(st1)) #字符串类型\n",
    "\n",
    "li = eval(st1) #eval()函数可以将字符串转换为表达式，返回值为表达式的值\n",
    "print(li,type(li)) #列表类型\n",
    "\n",
    "st2 = \"{'name':'Oli','age':23}\"\n",
    "dic = eval(st2) #eval()函数可以将字符串转换为表达式，返回值为表达式的值\n",
    "\n",
    "print(dic,type(dic)) #字典类型\n",
    "print(st2,type(st2)) #字符串类型"
   ]
  },
  {
   "cell_type": "markdown",
   "metadata": {},
   "source": [
    "`tuple(s)` 将序列s转换为一个元组"
   ]
  },
  {
   "cell_type": "markdown",
   "metadata": {},
   "source": [
    "`list(s)` 将可迭代对象s转化为一个列表，str、tuple、dict、set"
   ]
  },
  {
   "cell_type": "code",
   "execution_count": 71,
   "metadata": {},
   "outputs": [
    {
     "name": "stdout",
     "output_type": "stream",
     "text": [
      "['O', 'l', 'i', 'v', 'e', 'r']\n",
      "[1, 2, 3, 4]\n",
      "['name', 'age']\n",
      "[1, 2, 3]\n"
     ]
    }
   ],
   "source": [
    "print(list('Oliver'))\n",
    "\n",
    "print(list((1,2,3,4)))\n",
    "\n",
    "print(list({\"name\":'oli','age':23})) #集合类型转换为列表类型，会取键名作为列表的值\n",
    "\n",
    "print(list({1,2,3,3})) #集合类型转换为列表类型，会取集合的值作为列表的值,会先去重，再转化"
   ]
  },
  {
   "cell_type": "markdown",
   "metadata": {},
   "source": [
    "`chr()` 将一整数转化为一个字符"
   ]
  },
  {
   "cell_type": "markdown",
   "metadata": {},
   "source": [
    "#### 2.深浅拷贝"
   ]
  },
  {
   "cell_type": "markdown",
   "metadata": {},
   "source": [
    "深浅拷贝只针对可变对象\n",
    "\n",
    "**赋值**，等于完全共享资源，一个值的改变会完全被另一个值共享"
   ]
  },
  {
   "cell_type": "code",
   "execution_count": 73,
   "metadata": {},
   "outputs": [
    {
     "name": "stdout",
     "output_type": "stream",
     "text": [
      "[1, 2, 3, 4, 5] <class 'list'>\n",
      "[1, 2, 3, 4, 5] <class 'list'>\n"
     ]
    }
   ],
   "source": [
    "li = [1,2,3,4,5]\n",
    "print(li,type(li)) #列表类型\n",
    "li2 = li #引用了li的内存地址，li2和li指向同一块内存区域\n",
    "print(li2,type(li2)) #列表类型"
   ]
  },
  {
   "cell_type": "markdown",
   "metadata": {},
   "source": [
    "**浅拷贝**：会创建新的对象，拷贝第一层的数据，嵌套层会指向原来的额内存地址\n",
    "\n",
    "优点：拷贝速度快，占用空间小，拷贝效率高"
   ]
  },
  {
   "cell_type": "code",
   "execution_count": 87,
   "metadata": {},
   "outputs": [
    {
     "name": "stdout",
     "output_type": "stream",
     "text": [
      "[1, 2, 3, [4, 5, 6], [7, 8, 9]] <class 'list'>\n",
      "查看内存地址： 2898751563968\n",
      "查看内存地址： 2898753317120\n",
      "[1, 2, 3, [4, 5, 6], [7, 8, 9], 10]\n",
      "[1, 2, 3, [4, 5, 6], [7, 8, 9]]\n",
      "[1, 2, 3, [4, 5, 6, 11], [7, 8, 9], 10] 2898752939136\n",
      "[1, 2, 3, [4, 5, 6, 11], [7, 8, 9]] 2898752939136\n"
     ]
    }
   ],
   "source": [
    "import copy #导入copy模块\n",
    "\n",
    "li = [1,2,3,[4,5,6],[7,8,9]]\n",
    "\n",
    "li2 = copy.copy(li) #浅拷贝，li2和li指向不同的内存区域，但是li2的元素还是指向li的内存地址\n",
    "print(li2,type(li2)) #列表类型\n",
    "\n",
    "print(\"查看内存地址：\",id(li))\n",
    "print(\"查看内存地址：\",id(li2)) #内存地址不一样，说明不是同一个对象\n",
    "\n",
    "li.append(10) #添加元素，li2不会受到影响\n",
    "print(li) \n",
    "print(li2) #没有受到影响\n",
    "\n",
    "li[3].append(11) #嵌套列表添加元素，li2会受到影响，因为li2的元素还是指向li的内存地址\n",
    "print(li,id(li[3])) #查看内存地址\n",
    "print(li2,id(li2[3])) #受到影响，因为两个列表嵌套列表的元素内存地址是一样的\n"
   ]
  },
  {
   "cell_type": "markdown",
   "metadata": {},
   "source": [
    "**深拷贝**：数据完全不共享，外层对象和内部元素都拷贝了一遍，数据变化只影响自己本身，与原有对象没有关系了"
   ]
  },
  {
   "cell_type": "code",
   "execution_count": 94,
   "metadata": {},
   "outputs": [
    {
     "name": "stdout",
     "output_type": "stream",
     "text": [
      "[1, 2, 3, [4, 5, 6], [7, 8, 9]] <class 'list'>\n",
      "查看内存地址： 2898752847424\n",
      "查看内存地址： 2898752930240\n",
      "[1, 2, 3, [4, 5, 6], [7, 8, 9], 10] 内存地址： 2898752847424\n",
      "[1, 2, 3, [4, 5, 6], [7, 8, 9]] 内存地址： 2898752930240\n",
      "[1, 2, 3, [4, 5, 6, 11], [7, 8, 9], 10] 内存地址： 2898752944000\n",
      "[1, 2, 3, [4, 5, 6], [7, 8, 9]] 内存地址： 2898753312000\n"
     ]
    }
   ],
   "source": [
    "import copy #导入copy模块\n",
    "\n",
    "li = [1,2,3,[4,5,6],[7,8,9]]\n",
    "li2 = copy.deepcopy(li) #深拷贝，li2和li指向不同的内存区域，li2的元素也指向不同的内存地址\n",
    "print(li2,type(li2)) #列表类型\n",
    "print(\"查看内存地址：\",id(li))\n",
    "print(\"查看内存地址：\",id(li2)) #内存地址不一样，说明不是同一个对象\n",
    "\n",
    "li.append(10) #添加元素，li2不会受到影响\n",
    "print(li,\"内存地址：\",id(li)) #查看内存地址\n",
    "print(li2,\"内存地址：\",id(li2)) #没有受到影响\n",
    "\n",
    "li[3].append(11) #嵌套列表添加元素，li2不会受到影响，因为li2的元素也指向不同的内存地址\n",
    "print(li,\"内存地址：\",id(li[3])) #查看内存地址\n",
    "print(li2,\"内存地址：\",id(li2[3])) #没有受到影响，因为两个列表嵌套列表的元素内存地址是不一样的"
   ]
  },
  {
   "cell_type": "markdown",
   "metadata": {},
   "source": [
    "#### 3.可变对象"
   ]
  },
  {
   "cell_type": "markdown",
   "metadata": {},
   "source": [
    "**含义**：存储空间保存的数据**允许**背修改\n",
    "\n",
    "可变类型：变量对应的值可以修改，但是内存地址不会发生改变"
   ]
  },
  {
   "cell_type": "code",
   "execution_count": 97,
   "metadata": {},
   "outputs": [
    {
     "name": "stdout",
     "output_type": "stream",
     "text": [
      "[1, 2, 3, 4] 2898753395904\n",
      "[1, 2, 3, 4, 5] 2898753395904\n"
     ]
    }
   ],
   "source": [
    "li = [1,2,3,4]\n",
    "\n",
    "print(li,id(li)) #查看内存地址\n",
    "\n",
    "li.append(5)\n",
    "print(li,id(li)) #内存地址不变，说明是同一个对象"
   ]
  },
  {
   "cell_type": "code",
   "execution_count": 99,
   "metadata": {},
   "outputs": [
    {
     "name": "stdout",
     "output_type": "stream",
     "text": [
      "{'name': 'Oli', 'age': 23} 2898753316416\n",
      "{'name': 'bill', 'age': 23} 2898753316416\n"
     ]
    }
   ],
   "source": [
    "dic = {\"name\":\"Oli\",\"age\":23} #字典类型\n",
    "print(dic,id(dic)) #查看内存地址\n",
    "\n",
    "dic[\"name\"] = \"bill\" #修改字典的值\n",
    "print(dic,id(dic)) #内存地址不变，说明是同一个对象"
   ]
  },
  {
   "cell_type": "code",
   "execution_count": 100,
   "metadata": {},
   "outputs": [
    {
     "name": "stdout",
     "output_type": "stream",
     "text": [
      "{1, 2, 3, 4} 2898749844704\n",
      "{2, 3, 4} 2898749844704\n"
     ]
    }
   ],
   "source": [
    "set = {1,2,3,4} #集合类型\n",
    "print(set,id(set)) #查看内存地址\n",
    "\n",
    "set.remove(1) #删除集合的元素\n",
    "print(set,id(set)) #内存地址不变，说明是同一个对象"
   ]
  },
  {
   "cell_type": "markdown",
   "metadata": {},
   "source": [
    "**常见的不可变类型**：数值类型[`int`，`bool`，`float`，`complex`]，字符串[`str`]，元组[`tuple`]"
   ]
  },
  {
   "cell_type": "code",
   "execution_count": 103,
   "metadata": {},
   "outputs": [
    {
     "name": "stdout",
     "output_type": "stream",
     "text": [
      "10 140717129620184\n",
      "15 140717129620344\n"
     ]
    }
   ],
   "source": [
    "n = 10\n",
    "print(n,id(n)) #查看内存地址\n",
    "\n",
    "n = 15\n",
    "print(n,id(n)) #内存地址变了，说明是不同的对象，修改后生成了新的值赋值给变量n"
   ]
  },
  {
   "cell_type": "markdown",
   "metadata": {},
   "source": [
    "#### 4.函数与参数"
   ]
  },
  {
   "cell_type": "markdown",
   "metadata": {},
   "source": [
    "**定义**：将具有**独立**功能的代码块组织成一个整体，使其具有特殊功能的代码集\n",
    "\n",
    "**作用**：使用函数可以加强代码**复用性**，提高程序编写效率\n",
    "\n",
    "注意：函数名要符合标识符规定，最好见名知意；调用几次，函数里的代码就会运行几次；每次运行函数都会从头运行"
   ]
  },
  {
   "cell_type": "code",
   "execution_count": 111,
   "metadata": {},
   "outputs": [
    {
     "name": "stdout",
     "output_type": "stream",
     "text": [
      "Hello\n",
      "Oli\n"
     ]
    }
   ],
   "source": [
    "def SayHello(): #定义函数，name是参数\n",
    "    print(\"Hello\") #打印Hello和参数name\n",
    "    print('Oli') #打印Hello和参数name\n",
    "SayHello() #调用函数，name是参数"
   ]
  },
  {
   "cell_type": "code",
   "execution_count": 115,
   "metadata": {},
   "outputs": [
    {
     "name": "stdout",
     "output_type": "stream",
     "text": [
      "起床,吃饭,刷牙,睡觉\n",
      "执行完成\n",
      "起床,吃饭,刷牙,睡觉\n",
      "执行完成\n",
      "起床,吃饭,刷牙,睡觉\n",
      "执行完成\n",
      "起床,吃饭,刷牙,睡觉\n",
      "真\n"
     ]
    }
   ],
   "source": [
    "def day(): #函数也叫方法，day()就是个函数\n",
    "    print(\"起床\",end=\",\")\n",
    "    print(\"吃饭\",end=\",\")\n",
    "    print(\"刷牙\",end=\",\")\n",
    "    print(\"睡觉\")\n",
    " \n",
    "\n",
    "for i in range(3):\n",
    "    day()\n",
    "    print(\"执行完成\")\n",
    "\n",
    "a = True\n",
    "if a: #当这四步执行完的时候\n",
    "    day()\n",
    "    print(\"真\")"
   ]
  },
  {
   "cell_type": "markdown",
   "metadata": {},
   "source": [
    "**返回值**：函数执行结束后，最后给调用者的一个结果，`return` 会返回，需要打印才可以看见返回值，如果返回多个值，是以元组的形式返回"
   ]
  },
  {
   "cell_type": "code",
   "execution_count": 7,
   "metadata": {},
   "outputs": [
    {
     "name": "stdout",
     "output_type": "stream",
     "text": [
      "53是奇数\n"
     ]
    }
   ],
   "source": [
    "def isDuble(n):\n",
    "    if n % 2 == 0:\n",
    "        return True\n",
    "    else:\n",
    "        return False\n",
    "#此函数回返回一个布尔值，用来给下一段代码判断\n",
    "    \n",
    "a = int(input(\"输入一个数：\"))\n",
    "\n",
    "if isDuble(a):\n",
    "    print(f\"{a}是偶数\")\n",
    "else:\n",
    "    print(f\"{a}是奇数\")"
   ]
  },
  {
   "cell_type": "markdown",
   "metadata": {},
   "source": [
    "也可简化为下面这样："
   ]
  },
  {
   "cell_type": "code",
   "execution_count": 1,
   "metadata": {},
   "outputs": [
    {
     "name": "stdout",
     "output_type": "stream",
     "text": [
      "51是奇数\n"
     ]
    }
   ],
   "source": [
    "def isDuble(n):  #n是形参\n",
    "    return n % 2 == 0\n",
    "\n",
    "a = int(input(\"输入一个数：\")) #a是实参\n",
    "if isDuble(a):\n",
    "    print(f\"{a}是偶数\")\n",
    "else:\n",
    "    print(f\"{a}是奇数\")\n",
    "        "
   ]
  },
  {
   "cell_type": "markdown",
   "metadata": {},
   "source": [
    "返回值的三种情况：\n",
    "\n",
    "1.一个返回值都没有，返回结果是None\n",
    "\n",
    "2.一个返回值\n",
    "\n",
    "3.多个返回值以元组形式"
   ]
  },
  {
   "cell_type": "code",
   "execution_count": 2,
   "metadata": {},
   "outputs": [
    {
     "name": "stdout",
     "output_type": "stream",
     "text": [
      "吃饭\n"
     ]
    }
   ],
   "source": [
    "day = 10\n",
    "\n",
    "def DAY():\n",
    "    if day % 2 == 0:\n",
    "        print(\"吃饭\")\n",
    "    else:\n",
    "        print(\"睡觉\")\n",
    "\n",
    "DAY()\n",
    "\n",
    "# 函数名称不能和变量名称一样，函数名称不能和关键字一样\n"
   ]
  },
  {
   "cell_type": "markdown",
   "metadata": {},
   "source": [
    "`return` 和 `print` 的区别：\n",
    "\n",
    "1.前者代表此函数结束，后者会一直执行\n",
    "\n",
    "2.前者返回计算值，后者打印结果"
   ]
  },
  {
   "cell_type": "code",
   "execution_count": 4,
   "metadata": {},
   "outputs": [
    {
     "name": "stdout",
     "output_type": "stream",
     "text": [
      "0,1,2,3,4,5,6,7,8,9,"
     ]
    }
   ],
   "source": [
    "def main():\n",
    "    for i in range(10):\n",
    "        print(i,end=',')\n",
    "        a()\n",
    "\n",
    "def a():\n",
    "    b()\n",
    "\n",
    "def b():\n",
    "    pass\n",
    "\n",
    "if __name__ == \"__main__\": \n",
    "# 这个是固定写法，表示只有在这个文件被直接运行的时候才会执行下面的代码,如果被其他文件引用，下面的代码不会执行,防止被其他文件引用时候不必要执行下面的代码\n",
    "    main()"
   ]
  },
  {
   "cell_type": "markdown",
   "metadata": {},
   "source": [
    "**形参和实参**：在定义的时候就是形参，调用的时候是实参"
   ]
  },
  {
   "cell_type": "code",
   "execution_count": 118,
   "metadata": {},
   "outputs": [
    {
     "name": "stdout",
     "output_type": "stream",
     "text": [
      "(1, 2, 3, 4, 5)\n",
      "1 2 3 4 5\n"
     ]
    }
   ],
   "source": [
    "def g():\n",
    "    return 1,2,3,4,5\n",
    "\n",
    "b = g()\n",
    "print(b) #返回一个元组\n",
    "\n",
    "a,b,c,d,e = g()\n",
    "print(a,b,c,d,e) #返回多个值,这个叫解包(拆包)"
   ]
  },
  {
   "cell_type": "markdown",
   "metadata": {},
   "source": [
    "**必备参数**：`def fun(a,b):` 写了几个就传几个"
   ]
  },
  {
   "cell_type": "code",
   "execution_count": 120,
   "metadata": {},
   "outputs": [
    {
     "name": "stdout",
     "output_type": "stream",
     "text": [
      "Oli bill\n"
     ]
    }
   ],
   "source": [
    "def Name(n1,n2):\n",
    "    print(n1,n2) #打印两个参数\n",
    "\n",
    "Name(\"Oli\",\"bill\") #调用函数，传入两个参数"
   ]
  },
  {
   "cell_type": "code",
   "execution_count": 117,
   "metadata": {},
   "outputs": [
    {
     "name": "stdout",
     "output_type": "stream",
     "text": [
      "0,1,2,3,4,5,6,7,8,9,10,11,12,13,14,15,16,17,18,19,20,"
     ]
    }
   ],
   "source": [
    "def main():\n",
    "    for i in range(30):\n",
    "        a(i)\n",
    "\n",
    "def a(num):\n",
    "    if num <= 20:\n",
    "        print(num,end=',')\n",
    "    else:\n",
    "        return\n",
    "    \n",
    "if __name__ == \"__main__\":\n",
    "    main()"
   ]
  },
  {
   "cell_type": "markdown",
   "metadata": {},
   "source": [
    "**默认参数**：`def fun(a=12):` 给某个参数指定一个参数值，所有位置的参数必须出现在默认参数**前**，包含函数的定义和调用"
   ]
  },
  {
   "cell_type": "code",
   "execution_count": 124,
   "metadata": {},
   "outputs": [
    {
     "name": "stdout",
     "output_type": "stream",
     "text": [
      "Bill Oliver Anne\n",
      "Bill Oliver Sam\n"
     ]
    }
   ],
   "source": [
    "def Name(n1,n2,n3 = \"Anne\"): #默认参数，n3有默认值\n",
    "    print(n1,n2,n3) #打印三个参数\n",
    "\n",
    "Name(\"Bill\",\"Oliver\") #调用函数，传入两个参数，n3使用默认值\n",
    "Name(\"Bill\",\"Oliver\",\"Sam\") #调用函数，传入三个参数，n3使用传入的值"
   ]
  },
  {
   "cell_type": "markdown",
   "metadata": {},
   "source": [
    "**可变参数**：`def fun(*args):` *args将实参所有位置参数酵素，放置在一个元组中，args可以换成其他参数名，但是args更加符合代码规范"
   ]
  },
  {
   "cell_type": "code",
   "execution_count": 6,
   "metadata": {},
   "outputs": [
    {
     "name": "stdout",
     "output_type": "stream",
     "text": [
      "1-2-3-4-5-6-7-8-9-10-"
     ]
    }
   ],
   "source": [
    "def g(*args): #*args表示可变参数，可以传入任意多个参数\n",
    "    for i in args:\n",
    "        print(i,end='-')\n",
    "    \n",
    "g(1,2,3,4,5,6,7,8,9,10)"
   ]
  },
  {
   "cell_type": "code",
   "execution_count": 130,
   "metadata": {},
   "outputs": [
    {
     "name": "stdout",
     "output_type": "stream",
     "text": [
      "1\n",
      "2-<class 'tuple'>\n",
      "3-<class 'tuple'>\n",
      "4-<class 'tuple'>\n"
     ]
    }
   ],
   "source": [
    "def g(n,*args): \n",
    "    print(n)\n",
    "    for i in args:\n",
    "        print(i,end='-')\n",
    "        print(type(args)) #args是元组类型\n",
    "g(1,2,3,4,)\n"
   ]
  },
  {
   "cell_type": "markdown",
   "metadata": {},
   "source": [
    "\n",
    "**关键字参数**：`def fun(**kwargs):` **kwargs接受所有关键字参数然后转换为一个字典赋值给kwargs，与可变参数区别在于字典接受参数"
   ]
  },
  {
   "cell_type": "code",
   "execution_count": 6,
   "metadata": {},
   "outputs": [
    {
     "name": "stdout",
     "output_type": "stream",
     "text": [
      "1\n",
      "2\n",
      "3-4-5-6-7-8-9-10-name\n",
      "Oli\n"
     ]
    }
   ],
   "source": [
    "def g(n,age=18,*a,**kwargs): #可变参数，*a表示可变参数，可以传入任意多个参数，**kwargs表示可变关键字参数，可以传入任意多个关键字参数\n",
    "\n",
    "#参数必须按顺序，先写必须参数，再写默认参数，再写可变参数，最后写可变关键字参数\n",
    "\n",
    "    print(n) \n",
    "    print(age)\n",
    "    for i in a:\n",
    "        print(i,end='-')\n",
    "    for k,v in kwargs.items():\n",
    "        print(k)\n",
    "        print(v)\n",
    "\n",
    "g(1,2,3,4,5,6,7,8,9,10,name=\"Oli\") #调用函数，传入多个参数，name和age是关键字参数\n"
   ]
  },
  {
   "cell_type": "markdown",
   "metadata": {},
   "source": [
    "**函数嵌套**\n",
    "\n",
    "含义：在一个函数中定义另一个函数\n",
    "\n",
    "注意：缩进决定层级"
   ]
  },
  {
   "cell_type": "code",
   "execution_count": 8,
   "metadata": {},
   "outputs": [
    {
     "name": "stdout",
     "output_type": "stream",
     "text": [
      "学习Python\n",
      "工作\n"
     ]
    }
   ],
   "source": [
    "def Study():\n",
    "    print(\"学习Python\")\n",
    "\n",
    "def Work():\n",
    "    Study() #调用Study函数\n",
    "    print(\"工作\")\n",
    "\n",
    "Work() #调用Work函数，Work函数调用了Study函数，先执行Study函数，再执行Work函数"
   ]
  },
  {
   "cell_type": "markdown",
   "metadata": {},
   "source": [
    "不要在内层函数中调用外层函数，会陷入死循环，超过递归的最大深度"
   ]
  },
  {
   "cell_type": "code",
   "execution_count": 15,
   "metadata": {},
   "outputs": [
    {
     "name": "stdout",
     "output_type": "stream",
     "text": [
      "学习Python\n",
      "工作\n"
     ]
    }
   ],
   "source": [
    "def Study():\n",
    "    print(\"学习Python\")\n",
    "    def Work(): #嵌套函数，Work函数在Study函数里面定义\n",
    "        print(\"工作\")   \n",
    "\n",
    "    Work() #调用Work函数，注意缩进，定义和调用是在同一层级的，调用如果在里面则永远调用不到\n",
    "\n",
    "Study() #调用Study函数，Study函数调用了Work函数，先执行Study函数，再执行Work函数"
   ]
  },
  {
   "cell_type": "markdown",
   "metadata": {},
   "source": [
    "#### 5.作用域与内置函数"
   ]
  },
  {
   "cell_type": "markdown",
   "metadata": {},
   "source": [
    "**定义**：指的是变量生效的范围，分别是**全局变量**和**局部变量**"
   ]
  },
  {
   "cell_type": "markdown",
   "metadata": {},
   "source": [
    "**全局变量**：函数外部定义的变量，在整个文件中都是有效的，函数内使用变量会优先从函数内部找，没有再从函数外找"
   ]
  },
  {
   "cell_type": "code",
   "execution_count": 17,
   "metadata": {},
   "outputs": [
    {
     "name": "stdout",
     "output_type": "stream",
     "text": [
      "10\n",
      "10\n",
      "20\n",
      "10\n"
     ]
    }
   ],
   "source": [
    "a = 10\n",
    "def test1():\n",
    "    print(a) #访问全局变量a\n",
    "\n",
    "def test2():\n",
    "    a = 20 #局部变量a，和全局变量a不冲突\n",
    "    print(a) #访问局部变量a\n",
    "\n",
    "print(a) #访问全局变量a\n",
    "test1() #调用test1函数，访问全局变量a\n",
    "test2() #调用test2函数，访问局部变量a\n",
    "print(a) #访问全局变量a，局部变量a不影响全局变量a的值"
   ]
  },
  {
   "cell_type": "markdown",
   "metadata": {},
   "source": [
    "**局部变量**：函数内部定义的变量，从定义位置开始到函数定义位置结束有效，只能在被定义的函数内部使用，不能在函数外部使用，在函数体内临时保存变量，调用完成后销毁"
   ]
  },
  {
   "cell_type": "code",
   "execution_count": 21,
   "metadata": {},
   "outputs": [
    {
     "name": "stdout",
     "output_type": "stream",
     "text": [
      "10\n",
      "20\n"
     ]
    }
   ],
   "source": [
    "def f1():\n",
    "    n = 10\n",
    "    print(n) #访问局部变量n\n",
    "\n",
    "f1() #调用f1函数，访问局部变量n\n",
    "\n",
    "def f2():\n",
    "    n = 20 #局部变量n，和全局变量n不冲突\n",
    "    print(n) #访问局部变量n\n",
    "\n",
    "f2() #调用f2函数，访问局部变量n，两个函数的局部变量命名不冲突"
   ]
  },
  {
   "cell_type": "markdown",
   "metadata": {},
   "source": [
    "在函数内部修改全局变量的值，使用 `global` 关键字，也可以在局部作用域中声明一个全局变量"
   ]
  },
  {
   "cell_type": "code",
   "execution_count": 26,
   "metadata": {},
   "outputs": [
    {
     "name": "stdout",
     "output_type": "stream",
     "text": [
      "睡觉13次\n",
      "14\n"
     ]
    }
   ],
   "source": [
    "day = 11\n",
    "\n",
    "def DAY():\n",
    "    global day  #函数使用外部变量并且对外部变量进行了修改，就需要在函数最开始申明global\n",
    "    day = 13 #局部变量day，和全局变量day不冲突\n",
    "\n",
    "    if day % 2 == 0:\n",
    "        print(f\"吃饭{day}次\")\n",
    "    else:\n",
    "        print(f\"睡觉{day}次\")\n",
    "        day += 1\n",
    "\n",
    "DAY()\n",
    "print(day)"
   ]
  },
  {
   "cell_type": "markdown",
   "metadata": {},
   "source": [
    "含有全局变量声明的函数必须调用后才可改变全局变量"
   ]
  },
  {
   "cell_type": "code",
   "execution_count": 37,
   "metadata": {},
   "outputs": [
    {
     "name": "stdout",
     "output_type": "stream",
     "text": [
      "Oli\n",
      "Oli\n"
     ]
    }
   ],
   "source": [
    "def Study():\n",
    "    global name #申明name是全局变量\n",
    "    name = \"Oli\" #局部变量name，和全局变量name不冲突\n",
    "    print(name) #访问局部变量name\n",
    "\n",
    "Study() #调用Study函数，访问局部变量name\n",
    "print(name) #访问全局变量name，局部变量name不影响全局变量name的值"
   ]
  },
  {
   "cell_type": "markdown",
   "metadata": {},
   "source": [
    "`nonlocal` 将变量声明为外层变量（外层函数的局部变量，而且不能是全局变量），对上一层进行修改"
   ]
  },
  {
   "cell_type": "code",
   "execution_count": 45,
   "metadata": {},
   "outputs": [
    {
     "name": "stdout",
     "output_type": "stream",
     "text": [
      "2函数中的值 30\n",
      "1函数中的值 30\n",
      "10\n"
     ]
    }
   ],
   "source": [
    "a = 10\n",
    "\n",
    "def test1():\n",
    "    a = 20 #局部变量a，和全局变量a不冲突\n",
    "\n",
    "    def test2():\n",
    "        nonlocal a\n",
    "        a = 30\n",
    "        print(\"2函数中的值\",a)\n",
    "    test2() #调用test2函数，访问局部变量a\n",
    "    print(\"1函数中的值\",a) #访问局部变量a，此时的a已经被test2函数修改了\n",
    "\n",
    "test1() #调用test2函数，访问局部变量a\n",
    "print(a) #访问全局变量a，局部变量a不影响全局变量a的值"
   ]
  },
  {
   "cell_type": "markdown",
   "metadata": {},
   "source": [
    "**匿名函数**\n",
    "\n",
    "语法：函数名=lambda 形参：返回值\n",
    "\n",
    "`lambda` 是定义匿名函数关键字，相当于 `def`\n",
    "\n",
    "调用：结果 = 函数名（实参）"
   ]
  },
  {
   "cell_type": "code",
   "execution_count": 47,
   "metadata": {},
   "outputs": [
    {
     "name": "stdout",
     "output_type": "stream",
     "text": [
      "3\n"
     ]
    }
   ],
   "source": [
    "def add(a,b): #定义函数，a和b是参数\n",
    "    return a + b #返回a和b的和\n",
    "\n",
    "print(add(1,2)) #调用函数，传入两个参数，返回值为a和b的和"
   ]
  },
  {
   "cell_type": "markdown",
   "metadata": {},
   "source": [
    "匿名函数可以简化函数，不需要return来接受返回值，因为表达式本身就是返回值"
   ]
  },
  {
   "cell_type": "code",
   "execution_count": 54,
   "metadata": {},
   "outputs": [
    {
     "name": "stdout",
     "output_type": "stream",
     "text": [
      "3\n",
      "Oliver\n",
      "('Oliver', 18)\n",
      "('Oliver', 23)\n"
     ]
    }
   ],
   "source": [
    "add = lambda a,b: a + b #匿名函数，a和b是参数，返回a和b的和\n",
    "print(add(1,2)) #调用函数，传入两个参数，返回值为a和b的和\n",
    "\n",
    "fun = lambda name:name\n",
    "print(fun(\"Oliver\")) #调用函数，传入一个参数，返回值为name的值\n",
    "\n",
    "fun1 = lambda name,age = 18:(name,age) #匿名函数，name和age是参数，返回name和age的元组\n",
    "print(fun1(\"Oliver\")) #调用函数，传入一个参数，返回值为name的值\n",
    "print(fun1(\"Oliver\",23)) #调用函数，传入两个参数，返回值为name和age的元组"
   ]
  },
  {
   "cell_type": "markdown",
   "metadata": {},
   "source": [
    "默认参数必须写在非默认参数之后"
   ]
  },
  {
   "cell_type": "code",
   "execution_count": 57,
   "metadata": {},
   "outputs": [
    {
     "name": "stdout",
     "output_type": "stream",
     "text": [
      "15\n",
      "6\n"
     ]
    }
   ],
   "source": [
    "fun = lambda a,b,c = 12: a+b+c\n",
    "print(fun(1,2)) #调用函数，传入两个参数，返回值为a和b的值，c使用默认值\n",
    "print(fun(1,2,3)) #调用函数，传入三个参数，返回值为a和b的值，c使用传入的值"
   ]
  },
  {
   "cell_type": "markdown",
   "metadata": {},
   "source": [
    "配合关键字参数"
   ]
  },
  {
   "cell_type": "code",
   "execution_count": 61,
   "metadata": {},
   "outputs": [
    {
     "name": "stdout",
     "output_type": "stream",
     "text": [
      "{'name': 'Oliver', 'age': 23}\n"
     ]
    }
   ],
   "source": [
    "fun = lambda **kwargs: kwargs #匿名函数，name是参数，kwargs是可变关键字参数，返回name和kwargs的元组\n",
    "print(fun(name = \"Oliver\",age = 23)) #调用函数，传入一个参数，返回值为name和kwargs的元组"
   ]
  },
  {
   "cell_type": "markdown",
   "metadata": {},
   "source": [
    "`lambda`只能实现简单的逻辑，如果逻辑复杂代码量大，则不使用"
   ]
  },
  {
   "cell_type": "code",
   "execution_count": 71,
   "metadata": {},
   "outputs": [
    {
     "name": "stdout",
     "output_type": "stream",
     "text": [
      "a比b小\n",
      "a比b大\n"
     ]
    }
   ],
   "source": [
    "a = 5\n",
    "b = 10\n",
    "\n",
    "print(\"a比b小\" if a < b else \"a比b大\") #三元表达式，判断a和b的大小关系，返回结果为字符串类型\n",
    "\n",
    "fun = lambda a,b: \"a比b小\" if a < b else \"a比b大\" #三元表达式，判断a和b的大小关系，返回结果为字符串类型\n",
    "print(fun(50,10)) #调用函数，传入两个参数，返回值为a和b的大小关系"
   ]
  },
  {
   "cell_type": "markdown",
   "metadata": {},
   "source": [
    "**内置函数**"
   ]
  },
  {
   "cell_type": "markdown",
   "metadata": {},
   "source": [
    "查看所有的内置函数，大写字母开头一般是内置常量名，小写字母开头一般是内置函数名"
   ]
  },
  {
   "cell_type": "code",
   "execution_count": null,
   "metadata": {},
   "outputs": [],
   "source": [
    "import builtins #导入内置模块"
   ]
  },
  {
   "cell_type": "code",
   "execution_count": 85,
   "metadata": {},
   "outputs": [
    {
     "name": "stdout",
     "output_type": "stream",
     "text": [
      "10\n",
      "6\n",
      "1\n",
      "3\n",
      "5\n"
     ]
    }
   ],
   "source": [
    "print(abs(-10)) #绝对值函数，返回值为10\n",
    "\n",
    "print(sum([1,2,3])) #sum内存放可迭代对象，使用列表，集合，元组才行，字符串和字典不可以\n",
    "\n",
    "print(min([1,2,3])) #最小值函数，返回值为1\n",
    "print(max(1,2,3)) #最大值函数，返回值为3\n",
    "\n",
    "print(min(-8,5,key=abs)) #最小值函数，返回值为-8，key是关键字参数，表示使用绝对值函数作为比较函数，abs不需要加括号，参数会先传入abs函数，返回值为绝对值"
   ]
  },
  {
   "cell_type": "code",
   "execution_count": 86,
   "metadata": {},
   "outputs": [
    {
     "name": "stdout",
     "output_type": "stream",
     "text": [
      "<zip object at 0x000001768BE58D80>\n",
      "<zip object at 0x000001768BE5B540>\n",
      "(1, 'a')\n",
      "(2, 'b')\n",
      "(3, 'c')\n"
     ]
    }
   ],
   "source": [
    "print(zip([1,2,3],[4,5,6])) #zip函数，返回值为元组类型，返回值为[(1,4),(2,5),(3,6)]，将两个列表对应位置的元素打包为一个元组，返回一个可迭代对象\n",
    "\n",
    "li = [1,2,3]\n",
    "li2 = ['a','b','c']\n",
    "\n",
    "print(zip(li,li2)) #zip函数，返回值为元组类型，返回值为[(1,'a'),(2,'b'),(3,'c')]，将两个列表对应位置的元素打包为一个元组，返回一个可迭代对象\n",
    "\n",
    "for i in zip(li,li2): #遍历zip函数返回的可迭代对象\n",
    "    print(i) #打印元组类型的元素"
   ]
  },
  {
   "cell_type": "markdown",
   "metadata": {},
   "source": [
    "转换成列表打印"
   ]
  },
  {
   "cell_type": "code",
   "execution_count": 88,
   "metadata": {},
   "outputs": [
    {
     "name": "stdout",
     "output_type": "stream",
     "text": [
      "[(1, 'a'), (2, 'b'), (3, 'c')]\n"
     ]
    }
   ],
   "source": [
    "li = [1,2,3]\n",
    "li2 = ['a','b','c']\n",
    "\n",
    "print(list(zip(li,li2))) #必须是可迭代对象\n",
    "\n",
    "#zip函数，返回值为元组类型，返回值为[(1,'a'),(2,'b'),(3,'c')]，将两个列表对应位置的元素打包为一个元组，返回一个可迭代对象，转换为列表类型"
   ]
  },
  {
   "cell_type": "markdown",
   "metadata": {},
   "source": [
    "`map()` 映射函数，可对可迭代对象中的每一个元素进行映射，分别去执行，map(自己定义的函数，要放进去的对待对象)"
   ]
  },
  {
   "cell_type": "code",
   "execution_count": 89,
   "metadata": {},
   "outputs": [
    {
     "name": "stdout",
     "output_type": "stream",
     "text": [
      "<map object at 0x000001768B0F59F0>\n"
     ]
    }
   ],
   "source": [
    "li = [1,2,3]\n",
    "def funa(x):\n",
    "    return x * 5\n",
    "\n",
    "mp = map(funa,li) #map函数，返回值为可迭代对象，返回值为[5,10,15]，将列表中的每个元素传入funa函数，返回值为列表类型\n",
    "print(mp)"
   ]
  },
  {
   "cell_type": "markdown",
   "metadata": {},
   "source": [
    "`reduce()` 先把对象中的两个元素取出来，计算出一个值然后保存着，接下来吧这个计算值和第三个元素进行计算\n",
    "\n",
    "reduce(函数，序列)，函数必须是有两个参数的函数，序列一般是可迭代对象"
   ]
  },
  {
   "cell_type": "code",
   "execution_count": 92,
   "metadata": {},
   "outputs": [
    {
     "name": "stdout",
     "output_type": "stream",
     "text": [
      "11\n"
     ]
    }
   ],
   "source": [
    "from functools import reduce #导入reduce函数\n",
    "\n",
    "li = [1,2,3]\n",
    "def add(x,y): #定义函数，x和y是参数，只能传入两个参数\n",
    "    return x + 2*y #1+2*2=5,5+2*3=11\n",
    "\n",
    "res = reduce(add,li) #reduce函数，返回值为可迭代对象，返回值为15，将列表中的每个元素传入add函数，返回值为列表类型\n",
    "print(res) #打印reduce函数返回的值，返回值为15"
   ]
  },
  {
   "cell_type": "markdown",
   "metadata": {},
   "source": [
    "#### 6.函数拆包"
   ]
  },
  {
   "cell_type": "markdown",
   "metadata": {},
   "source": [
    "**含义**：对于函数中的多个返回数据，去掉**元组**，**列表**或者**字典**直接获取里面的数据的过程"
   ]
  },
  {
   "cell_type": "code",
   "execution_count": 129,
   "metadata": {},
   "outputs": [
    {
     "name": "stdout",
     "output_type": "stream",
     "text": [
      "(1, 2, 3, 4, 5)\n",
      "1 2 3 4 5\n",
      "1 [2, 3, 4, 5]\n"
     ]
    }
   ],
   "source": [
    "tua = (1,2,3,4,5) #元组类型\n",
    "print(tua) #打印元组类型的值，返回值为(1,2,3,4,5)\n",
    "\n",
    "a,b,c,d,e = tua #元组解包，将元组中的每个元素赋值给变量a,b,c,d,e，超过元素的个数会报错，一般在获取元组值的时候使用\n",
    "print(a,b,c,d,e) #打印变量a,b,c,d,e的值，返回值为1 2 3 4 5\n",
    "\n",
    "a,*b = tua #元组解包，将元组中的第一个元素赋值给变量a，剩下的元素赋值给变量b，b是列表类型\n",
    "print(a,b) \n",
    "\n",
    "del tua #删除元组类型的值，删除后元组类型的值就不存在了\n",
    "del a #删除变量a，删除后变量a就不存在了\n",
    "del b #删除变量b，删除后变量b就不存在了\n",
    "del c #删除变量c，删除后变量c就不存在了\n",
    "del d #删除变量d，删除后变量d就不存在了\n",
    "del e #删除变量e，删除后变量e就不存在了"
   ]
  },
  {
   "cell_type": "markdown",
   "metadata": {},
   "source": [
    "#### 7.异常"
   ]
  },
  {
   "cell_type": "markdown",
   "metadata": {},
   "source": [
    "**含义**：是一个事件，这个事件在程序执行过程中发生，影响了程序的正常执行"
   ]
  },
  {
   "cell_type": "code",
   "execution_count": 128,
   "metadata": {},
   "outputs": [
    {
     "name": "stdout",
     "output_type": "stream",
     "text": [
      "10\n"
     ]
    }
   ],
   "source": [
    "print(f) #报错是因为f没有定义，函数内的变量不能在函数外使用，除非是全局变量或者返回值"
   ]
  },
  {
   "cell_type": "markdown",
   "metadata": {},
   "source": [
    "**错误类型：**\n",
    "\n",
    "`AttributeError` 试图访问一个对象没有的属性\n",
    "\n",
    "`IOErrpr` 输入/输出异常；基本上是无法打开文件\n",
    "\n",
    "`ImportError` 无法引入模块或包；基本上是路径问题或者名称错误\n",
    "\n",
    "`IndentationError` 语法错误（的子类）；代码没有正确对齐\n",
    "\n",
    "`IndexError` 下标索引超出序列边界\n",
    "\n",
    "`KeyError` 试图访问字典里不存在的键\n",
    "\n",
    "`KeyboardInterrupt` 用户中断执行（通常是Ctrl+C被按下）\n",
    "\n",
    "`NameError` 使用了一个还未被赋予对象的变量\n",
    "\n",
    "`SyntaxError` Python代码非法，代码不能编译\n",
    "\n",
    "`TypeError` 传入对象类型与要求不符合\n",
    "\n",
    "`ValueError` 传入一个调用者不期望的值"
   ]
  },
  {
   "cell_type": "markdown",
   "metadata": {},
   "source": [
    "**异常处理：**\n",
    "\n",
    "**目的**：让程序在有异常的时候，仍可正常运行"
   ]
  },
  {
   "cell_type": "code",
   "execution_count": 123,
   "metadata": {},
   "outputs": [
    {
     "name": "stdout",
     "output_type": "stream",
     "text": [
      "10\n",
      "10\n"
     ]
    }
   ],
   "source": [
    "#异常处理格式\n",
    "try:\n",
    "    print(f)\n",
    "\n",
    "except NameError as e:\n",
    "    print(\"发生异常了\")\n",
    "\n",
    "f = 10\n",
    "print(f)"
   ]
  },
  {
   "cell_type": "markdown",
   "metadata": {},
   "source": [
    "方法二"
   ]
  },
  {
   "cell_type": "code",
   "execution_count": 126,
   "metadata": {},
   "outputs": [
    {
     "name": "stdout",
     "output_type": "stream",
     "text": [
      "10\n",
      "11\n"
     ]
    }
   ],
   "source": [
    "try:\n",
    "    print(a)\n",
    "except Exception as e:\n",
    "    print(\"发生异常了\")\n",
    "\n",
    "a=11\n",
    "print(a) #报错是因为f没有定义，函数内的变量不能在函数外使用，除非是全局变量或者返回值"
   ]
  },
  {
   "cell_type": "markdown",
   "metadata": {},
   "source": [
    "`else` 是在只有没有异常的时候才会执行的代码"
   ]
  },
  {
   "cell_type": "code",
   "execution_count": 127,
   "metadata": {},
   "outputs": [
    {
     "name": "stdout",
     "output_type": "stream",
     "text": [
      "11\n",
      "执行finally语句\n"
     ]
    }
   ],
   "source": [
    "# 格式三\n",
    "\n",
    "try:\n",
    "    print(a)\n",
    "except NameError as e:\n",
    "    print(\"发生异常了\")\n",
    "finally:\n",
    "    print(\"执行finally语句\") #finally语句无论是否发生异常都会执行"
   ]
  },
  {
   "cell_type": "markdown",
   "metadata": {},
   "source": [
    "**异常传递**：当函数/方法执行出现异常，会将异常传递给函数/方法的调用的一放=方，如果传递到主程序，仍然没有异常处理，程序才会被终止"
   ]
  },
  {
   "cell_type": "code",
   "execution_count": 132,
   "metadata": {},
   "outputs": [
    {
     "name": "stdout",
     "output_type": "stream",
     "text": [
      "12\n"
     ]
    }
   ],
   "source": [
    "def fun1():\n",
    "    return int(input(\"请输入一个数字：\")) #输入一个数字，返回值为整数类型\n",
    "\n",
    "def fun2():\n",
    "    return fun1() #调用fun1函数，返回值为整数类型\n",
    "\n",
    "try:\n",
    "    print(fun2()) #调用fun2函数，返回值为整数类型，在主函数中增加异常捕获\n",
    "\n",
    "except Exception as e:\n",
    "    print(\"发生异常了\")"
   ]
  },
  {
   "cell_type": "markdown",
   "metadata": {},
   "source": [
    "**主动抛出异常**\n",
    "\n",
    "步骤：创建一个Exception（‘.....’）的对象\n",
    "\n",
    "`raise` 异常类对象"
   ]
  },
  {
   "cell_type": "code",
   "execution_count": 135,
   "metadata": {},
   "outputs": [],
   "source": [
    "def funa():\n",
    "    raise Exception(\"发生异常了\") #抛出异常，返回值为字符串类型，可以自定义异常提示信息\n",
    "    print('哈哈哈')\n",
    "\n",
    "#funa() #调用funa函数，返回值为字符串类型，抛出异常后不会执行后面的代码"
   ]
  },
  {
   "cell_type": "code",
   "execution_count": 150,
   "metadata": {},
   "outputs": [
    {
     "name": "stdout",
     "output_type": "stream",
     "text": [
      "123456789\n"
     ]
    }
   ],
   "source": [
    "def user():\n",
    "    pwd = input(\"请输入密码：\") #输入密码，返回值为字符串类型\n",
    "    if len(pwd) < 6: #判断密码长度是否小于6\n",
    "        raise Exception(\"密码长度不能小于6\") #抛出异常，返回值为字符串类型，可以自定义异常提示信息\n",
    "    else:\n",
    "        return pwd\n",
    "try:\n",
    "    upwd = user() #调用user函数，返回值为字符串类型，在主函数中增加异常捕获\n",
    "    print(upwd) #打印密码，返回值为字符串类型\n",
    "\n",
    "except Exception as e:\n",
    "    print(\"发生异常了:%s\" % e) #打印异常信息，返回值为字符串类型"
   ]
  },
  {
   "cell_type": "markdown",
   "metadata": {},
   "source": [
    "#### 8.模块"
   ]
  },
  {
   "cell_type": "markdown",
   "metadata": {},
   "source": [
    "**定义**：就是.py文件，里面定义了一些函数和变量，需要的时候就可以导入这些模块\n",
    "\n",
    "**执行步骤**：\n",
    "\n",
    "1.在Python模块加载路径中查找相应的模块文件\n",
    "\n",
    "2.将模块文件编译成中间代码\n",
    "\n",
    "3.执行模块文件中的代码\n",
    "\n",
    "好处：提高可维护性，可重用，避免函数名和变量名冲突"
   ]
  },
  {
   "cell_type": "markdown",
   "metadata": {},
   "source": [
    "pip 的第三方模块\n",
    "\n",
    "自定义模块，命名要遵循标识符规定以及变量的命名规范，并且不要与内置模块冲突，否则将导致模块不可使用"
   ]
  },
  {
   "cell_type": "markdown",
   "metadata": {},
   "source": [
    "导入模块\n",
    "\n",
    "方式一：`import` 模块名1，模块名2...."
   ]
  },
  {
   "cell_type": "code",
   "execution_count": 176,
   "metadata": {},
   "outputs": [
    {
     "name": "stdout",
     "output_type": "stream",
     "text": [
      "Oliver\n",
      "这是自定义模块练习的函数\n"
     ]
    }
   ],
   "source": [
    "import model_test\n",
    "\n",
    "#调用模块练习里的模块\n",
    "print(model_test.name) #调用模块练习里的变量，返回值为字符串类型\n",
    "\n",
    "model_test.fun() #调用模块练习里的函数，返回值为字符串类型"
   ]
  },
  {
   "cell_type": "markdown",
   "metadata": {},
   "source": [
    "方式二：`from 模块名 import 功能1,2`从模块中导入指定的部分"
   ]
  },
  {
   "cell_type": "code",
   "execution_count": 184,
   "metadata": {},
   "outputs": [
    {
     "name": "stdout",
     "output_type": "stream",
     "text": [
      "这是自定义模块练习的函数\n"
     ]
    }
   ],
   "source": [
    "from model_test import fun #从模块练习里导入变量name，返回值为字符串类型\n",
    "\n",
    "fun()"
   ]
  },
  {
   "cell_type": "markdown",
   "metadata": {},
   "source": [
    "方法三：`from 模块名 import *`"
   ]
  },
  {
   "cell_type": "code",
   "execution_count": 186,
   "metadata": {},
   "outputs": [
    {
     "name": "stdout",
     "output_type": "stream",
     "text": [
      "这是自定义模块练习的函数\n"
     ]
    }
   ],
   "source": [
    "from model_test import * #从模块练习里导入所有变量和函数，返回值为字符串类型\n",
    "\n",
    "fun() #调用模块练习里的函数，返回值为字符串类型"
   ]
  },
  {
   "cell_type": "markdown",
   "metadata": {},
   "source": [
    "不建议过多使用 `from...import...` 声明，有时候命名冲突会造成一些错误"
   ]
  },
  {
   "cell_type": "markdown",
   "metadata": {},
   "source": [
    "`as` 给模块起别名，`import xxx as xxx`"
   ]
  },
  {
   "cell_type": "code",
   "execution_count": 189,
   "metadata": {},
   "outputs": [
    {
     "name": "stdout",
     "output_type": "stream",
     "text": [
      "这是自定义模块练习的函数\n",
      "Oliver 23\n"
     ]
    }
   ],
   "source": [
    "import model_test as mt #导入模块练习，mt是模块练习的别名\n",
    "\n",
    "fun()\n",
    "\n",
    "print(mt.name,mt.age) #调用模块练习里的变量，返回值为字符串类型"
   ]
  },
  {
   "cell_type": "markdown",
   "metadata": {},
   "source": [
    "导入多个功能使用逗号将其隔开，也可以给后面的都取别名"
   ]
  },
  {
   "cell_type": "code",
   "execution_count": 195,
   "metadata": {},
   "outputs": [
    {
     "name": "stdout",
     "output_type": "stream",
     "text": [
      "这是自定义模块练习的函数\n",
      "Oliver\n"
     ]
    }
   ],
   "source": [
    "from model_test import fun as f,name as n #从模块练习里导入变量name，返回值为字符串类型\n",
    "\n",
    "f()\n",
    "print(n) #调用模块练习里的变量，返回值为字符串类型"
   ]
  },
  {
   "cell_type": "markdown",
   "metadata": {},
   "source": [
    "**内置全局变量**\n",
    "\n",
    "语法：`if __name__ == \"__main__\"`，用来控制py文件在不同得到引用场景下执行不同的逻辑\n",
    "\n",
    "文件在当前程序执行（即自己执行自己）：`__name__ == \"__main__\"`\n",
    "\n",
    "文件被当做模块北其他文件执行：`__name__ == 模块名`"
   ]
  },
  {
   "cell_type": "code",
   "execution_count": 203,
   "metadata": {},
   "outputs": [
    {
     "name": "stdout",
     "output_type": "stream",
     "text": [
      "哈哈嘿\n"
     ]
    }
   ],
   "source": [
    "import model_test2 as mt2 #导入模块练习，mt2是模块练习的别名\n",
    "\n",
    "mt2.test() #调用模块练习里的函数，返回值为字符串类型"
   ]
  },
  {
   "cell_type": "markdown",
   "metadata": {},
   "source": [
    "**包**\n",
    "\n",
    "含义：包就是项目结构中的文件夹/目录\n",
    "\n",
    "作用：包就是将有联系的模块放到同一个文件夹下，并且在这个个文件夹中创建一个名字为__init__.py文件，那么这个文件夹就被称之为包，有效避免模块名称冲突的问题，让结构更加清晰\n",
    "\n",
    "新建包：右键项目名 > new > python package\n",
    "\n",
    "**注意**：\n",
    "\n",
    "1.import导入包的时，首先执行__init__.py文件的代码\n",
    "\n",
    "2.不建议在init中编写过多的代码，尽量保证init的内容简洁\n",
    "\n",
    "3.__all__变量：一个列表，可以控制要引入的东西（模块、函数、类等）\n",
    "\n",
    "4.包的本质依然是模块，包又可以包含包"
   ]
  },
  {
   "cell_type": "markdown",
   "metadata": {},
   "source": [
    "`__all__ = ['register..']` 相当于导入[]里面定义的模块"
   ]
  },
  {
   "cell_type": "markdown",
   "metadata": {},
   "source": [
    "### 三、高阶"
   ]
  },
  {
   "cell_type": "markdown",
   "metadata": {},
   "source": [
    "#### 1.递归函数"
   ]
  },
  {
   "cell_type": "markdown",
   "metadata": {},
   "source": [
    "**含义**：如果一个函数在内部不调用其他函数，而是调用它本身的话，这个函数就是递归函数\n",
    "\n",
    "**条件**：\n",
    "\n",
    "1.明确的结束条件\n",
    "\n",
    "2.每进行更深一层的递归时，问题规模相比上次递归都要有所减少\n",
    "\n",
    "3.相邻两次重复之间有紧密的联系"
   ]
  },
  {
   "cell_type": "code",
   "execution_count": 2,
   "metadata": {},
   "outputs": [
    {
     "name": "stdout",
     "output_type": "stream",
     "text": [
      "5050\n"
     ]
    }
   ],
   "source": [
    "def add():\n",
    "    s = 0\n",
    "    for i in range(1,101):\n",
    "        s += i\n",
    "    print(s)\n",
    "\n",
    "add()"
   ]
  },
  {
   "cell_type": "markdown",
   "metadata": {},
   "source": [
    "**优点**：简洁逻辑清晰，解题更加具有思路\n",
    "\n",
    "**缺点**：使用递归函数的时候，需要反复调调用函数，耗内存，运行效率低\n",
    "\n",
    "可以使用循环解决就不要用递归"
   ]
  },
  {
   "cell_type": "code",
   "execution_count": 10,
   "metadata": {},
   "outputs": [
    {
     "name": "stdout",
     "output_type": "stream",
     "text": [
      "5050\n"
     ]
    }
   ],
   "source": [
    "def add1(n):\n",
    "    if n == 1:\n",
    "        return 1 #如果不是1，重复执行累加并返回结果\n",
    "    return n +add1(n-1)\n",
    "\n",
    "print(add1(100))"
   ]
  },
  {
   "cell_type": "markdown",
   "metadata": {},
   "source": [
    "斐波拉契数列"
   ]
  },
  {
   "cell_type": "code",
   "execution_count": null,
   "metadata": {},
   "outputs": [
    {
     "name": "stdout",
     "output_type": "stream",
     "text": [
      "13\n"
     ]
    }
   ],
   "source": [
    "def Fblq(n):\n",
    "    if n <= 1:\n",
    "        return n\n",
    "    return Fblq(n-2) + Fblq(n-1)\n",
    "\n",
    "print(Fblq(7))"
   ]
  },
  {
   "cell_type": "markdown",
   "metadata": {},
   "source": [
    "**闭包**\n",
    "\n",
    "含义：在嵌套函数的前提下，内部函数使用外部函数变量，而且外部函数返回了内部函数，就把使用外部函数变量的内部函数称为闭包\n",
    "\n",
    "条件：\n",
    "\n",
    "1.嵌套函数（在函数里面再定义函数）\n",
    "\n",
    "2.内层函数使用外层函数的局部变量\n",
    "\n",
    "3.外层函数的返回值是内层函数的函数名"
   ]
  },
  {
   "cell_type": "code",
   "execution_count": 35,
   "metadata": {},
   "outputs": [
    {
     "name": "stdout",
     "output_type": "stream",
     "text": [
      "<function outer.<locals>.inner at 0x000001D1AFBAB240>\n",
      "10\n"
     ]
    }
   ],
   "source": [
    "def outer(): #外层函数\n",
    "    n = 10\n",
    "    def inner(): #内层函数\n",
    "        print(n)\n",
    "    return inner\n",
    "\n",
    "print(outer()) #返回的是内部函数的内存地址\n",
    "\n",
    "ot = outer() #调用外函数\n",
    "ot() #调用内函数"
   ]
  },
  {
   "cell_type": "markdown",
   "metadata": {},
   "source": [
    "调用外函数时，outer返回了inner，inner是函数的引用，存入了ot中，接着再使用ot()就调用内函数"
   ]
  },
  {
   "cell_type": "code",
   "execution_count": 38,
   "metadata": {},
   "outputs": [
    {
     "name": "stdout",
     "output_type": "stream",
     "text": [
      "计算结果： 40\n"
     ]
    }
   ],
   "source": [
    "def outer(m): #形参，外函数的局部变量\n",
    "    n = 10\n",
    "    def inner(o):\n",
    "        print(\"计算结果：\", m + n + o)\n",
    "    return inner #返回函数名，而不是inner()，因为inner函数里面参数比较多的时或者受到限制的时，写法不太规范\n",
    "\n",
    "out = outer(20)\n",
    "\n",
    "out(10)"
   ]
  },
  {
   "cell_type": "markdown",
   "metadata": {},
   "source": [
    "每次开启内函数都在使用同一份闭包变量"
   ]
  },
  {
   "cell_type": "code",
   "execution_count": 47,
   "metadata": {},
   "outputs": [
    {
     "name": "stdout",
     "output_type": "stream",
     "text": [
      "outer()函数中的值 10\n",
      "inner()函数中的值 20\n",
      "30\n"
     ]
    }
   ],
   "source": [
    "def outer(m):\n",
    "    print('outer()函数中的值',m)\n",
    "\n",
    "    def inner(n):\n",
    "        print('inner()函数中的值',n)\n",
    "        return m + n\n",
    "    \n",
    "    return inner\n",
    "\n",
    "ot = outer(10) #外函数的额10\n",
    "print(ot(20)) #内函数的20"
   ]
  },
  {
   "cell_type": "markdown",
   "metadata": {},
   "source": [
    "**函数引用**\n",
    "\n",
    "函数后加括号代表引用函数，不加括号，只是一个函数的名字，只存在函数位置的引用（内存地址）\n",
    "\n",
    "`id()` 就可以判断两个变量是否为同一个值的引用"
   ]
  },
  {
   "cell_type": "code",
   "execution_count": 43,
   "metadata": {},
   "outputs": [
    {
     "name": "stdout",
     "output_type": "stream",
     "text": [
      "这是一个函数\n",
      "<function test1 at 0x000001D1AFC0B560>\n",
      "这是一个函数\n"
     ]
    }
   ],
   "source": [
    "def test1():\n",
    "    print('这是一个函数')\n",
    "\n",
    "test1()\n",
    "\n",
    "print(test1) #打印的是内存地址（引用）\n",
    "te = test1\n",
    "te() #通过引用调用函数"
   ]
  }
 ],
 "metadata": {
  "kernelspec": {
   "display_name": "base",
   "language": "python",
   "name": "python3"
  },
  "language_info": {
   "codemirror_mode": {
    "name": "ipython",
    "version": 3
   },
   "file_extension": ".py",
   "mimetype": "text/x-python",
   "name": "python",
   "nbconvert_exporter": "python",
   "pygments_lexer": "ipython3",
   "version": "3.12.3"
  }
 },
 "nbformat": 4,
 "nbformat_minor": 2
}
